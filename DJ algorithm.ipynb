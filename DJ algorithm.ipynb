{
 "cells": [
  {
   "cell_type": "code",
   "execution_count": 1,
   "metadata": {},
   "outputs": [
    {
     "data": {
      "application/vnd.jupyter.widget-view+json": {
       "model_id": "2efb5ffa8c5b43098f25fbe537dbb902",
       "version_major": 2,
       "version_minor": 0
      },
      "text/plain": [
       "HBox(children=(Button(description='H⊗ⁿ', style=ButtonStyle()), Button(description='Oracle', style=ButtonStyle(…"
      ]
     },
     "metadata": {},
     "output_type": "display_data"
    },
    {
     "data": {
      "application/vnd.jupyter.widget-view+json": {
       "model_id": "83537302cb5f4ab1964d2d89951a336f",
       "version_major": 2,
       "version_minor": 0
      },
      "text/plain": [
       "HTMLMath(value='$$ |00\\\\rangle = |00\\\\rangle $$')"
      ]
     },
     "metadata": {},
     "output_type": "display_data"
    },
    {
     "data": {
      "application/vnd.jupyter.widget-view+json": {
       "model_id": "bc6ab37339bd49c2b9a0b948845d27cc",
       "version_major": 2,
       "version_minor": 0
      },
      "text/plain": [
       "Image(value=b'\\x89PNG\\r\\n\\x1a\\n\\x00\\x00\\x00\\rIHDR\\x00\\x00\\x00\\xce\\x00\\x00\\x00\\xcc\\x08\\x06\\x00\\x00\\x00;\\xd7\\x9c…"
      ]
     },
     "metadata": {},
     "output_type": "display_data"
    }
   ],
   "source": [
    "from qiskit_textbook.widgets import dj_widget\n",
    "dj_widget(size=\"small\", case=\"constant\")"
   ]
  },
  {
   "cell_type": "code",
   "execution_count": 2,
   "metadata": {},
   "outputs": [],
   "source": [
    "# initialization\n",
    "import numpy as np\n",
    "\n",
    "# importing Qiskit\n",
    "from qiskit import IBMQ, Aer\n",
    "from qiskit.providers.ibmq import least_busy\n",
    "from qiskit import QuantumCircuit, assemble, transpile\n",
    "\n",
    "# import basic plot tools\n",
    "from qiskit.visualization import plot_histogram"
   ]
  },
  {
   "cell_type": "markdown",
   "metadata": {},
   "source": [
    "# Constant oracle"
   ]
  },
  {
   "cell_type": "code",
   "execution_count": 31,
   "metadata": {},
   "outputs": [],
   "source": [
    "def constant_oracle(n):\n",
    "\n",
    "    const_oracle = QuantumCircuit(n+1)\n",
    "    # Apply the unity gate i.e. do nothing\n",
    "    \n",
    "    # Function can be used to draw the qc\n",
    "    #const_oracle.draw()\n",
    "    return const_oracle"
   ]
  },
  {
   "cell_type": "markdown",
   "metadata": {},
   "source": [
    "# Balanced oracle"
   ]
  },
  {
   "cell_type": "code",
   "execution_count": 110,
   "metadata": {},
   "outputs": [],
   "source": [
    "\n",
    "def balanced_oracle(n):\n",
    "    \n",
    "    # Create the quantum circuit object with n+1 qubits\n",
    "    balanced_oracle = QuantumCircuit(n+1)\n",
    "\n",
    "    # Controlled-NOT gates\n",
    "    for qubit in range(n):\n",
    "        balanced_oracle.cx(qubit, n)\n",
    "    \n",
    "    # function below can be used to draw the qc\n",
    "    #balanced_oracle.draw()\n",
    "    return balanced_oracle\n"
   ]
  },
  {
   "cell_type": "markdown",
   "metadata": {},
   "source": [
    "# Full algorithm"
   ]
  },
  {
   "cell_type": "code",
   "execution_count": null,
   "metadata": {},
   "outputs": [],
   "source": []
  },
  {
   "cell_type": "code",
   "execution_count": 112,
   "metadata": {},
   "outputs": [
    {
     "name": "stderr",
     "output_type": "stream",
     "text": [
      "/home/zobination/anaconda3/lib/python3.7/site-packages/ipykernel_launcher.py:23: DeprecationWarning: The QuantumCircuit.__iadd__() method is being deprecated. Use the compose() (potentially with the inplace=True argument) and tensor() methods which are more flexible w.r.t circuit register compatibility.\n"
     ]
    },
    {
     "data": {
      "text/html": [
       "<pre style=\"word-wrap: normal;white-space: pre;background: #fff0;line-height: 1.1;font-family: &quot;Courier New&quot;,Courier,monospace\">     ┌───┐ ░            ░                      ░ ┌───┐ ░ ┌─┐         \n",
       "q_0: ┤ H ├─░────────────░───■──────────────────░─┤ H ├─░─┤M├─────────\n",
       "     ├───┤ ░            ░   │                  ░ ├───┤ ░ └╥┘┌─┐      \n",
       "q_1: ┤ H ├─░────────────░───┼────■─────────────░─┤ H ├─░──╫─┤M├──────\n",
       "     ├───┤ ░            ░   │    │             ░ ├───┤ ░  ║ └╥┘┌─┐   \n",
       "q_2: ┤ H ├─░────────────░───┼────┼────■────────░─┤ H ├─░──╫──╫─┤M├───\n",
       "     ├───┤ ░            ░   │    │    │        ░ ├───┤ ░  ║  ║ └╥┘┌─┐\n",
       "q_3: ┤ H ├─░────────────░───┼────┼────┼────■───░─┤ H ├─░──╫──╫──╫─┤M├\n",
       "     └───┘ ░ ┌───┐┌───┐ ░ ┌─┴─┐┌─┴─┐┌─┴─┐┌─┴─┐ ░ └───┘ ░  ║  ║  ║ └╥┘\n",
       "q_4: ──────░─┤ X ├┤ H ├─░─┤ X ├┤ X ├┤ X ├┤ X ├─░───────░──╫──╫──╫──╫─\n",
       "           ░ └───┘└───┘ ░ └───┘└───┘└───┘└───┘ ░       ░  ║  ║  ║  ║ \n",
       "c: 4/═════════════════════════════════════════════════════╩══╩══╩══╩═\n",
       "                                                          0  1  2  3 </pre>"
      ],
      "text/plain": [
       "     ┌───┐ ░            ░                      ░ ┌───┐ ░ ┌─┐         \n",
       "q_0: ┤ H ├─░────────────░───■──────────────────░─┤ H ├─░─┤M├─────────\n",
       "     ├───┤ ░            ░   │                  ░ ├───┤ ░ └╥┘┌─┐      \n",
       "q_1: ┤ H ├─░────────────░───┼────■─────────────░─┤ H ├─░──╫─┤M├──────\n",
       "     ├───┤ ░            ░   │    │             ░ ├───┤ ░  ║ └╥┘┌─┐   \n",
       "q_2: ┤ H ├─░────────────░───┼────┼────■────────░─┤ H ├─░──╫──╫─┤M├───\n",
       "     ├───┤ ░            ░   │    │    │        ░ ├───┤ ░  ║  ║ └╥┘┌─┐\n",
       "q_3: ┤ H ├─░────────────░───┼────┼────┼────■───░─┤ H ├─░──╫──╫──╫─┤M├\n",
       "     └───┘ ░ ┌───┐┌───┐ ░ ┌─┴─┐┌─┴─┐┌─┴─┐┌─┴─┐ ░ └───┘ ░  ║  ║  ║ └╥┘\n",
       "q_4: ──────░─┤ X ├┤ H ├─░─┤ X ├┤ X ├┤ X ├┤ X ├─░───────░──╫──╫──╫──╫─\n",
       "           ░ └───┘└───┘ ░ └───┘└───┘└───┘└───┘ ░       ░  ║  ║  ║  ║ \n",
       "c: 4/═════════════════════════════════════════════════════╩══╩══╩══╩═\n",
       "                                                          0  1  2  3 "
      ]
     },
     "execution_count": 112,
     "metadata": {},
     "output_type": "execute_result"
    }
   ],
   "source": [
    "# set the length of the n-bit input string. \n",
    "n = 4\n",
    "\n",
    "\n",
    "\n",
    "dj_circuit = QuantumCircuit(n+1, n)\n",
    "\n",
    "# Apply H-gates\n",
    "for qubit in range(n):\n",
    "    dj_circuit.h(qubit)\n",
    "dj_circuit.barrier()\n",
    "\n",
    "# Put qubit in state |->\n",
    "dj_circuit.x(n)\n",
    "dj_circuit.h(n)\n",
    "\n",
    "dj_circuit.barrier()\n",
    "# Add oracle\n",
    "\n",
    "oracle = balanced_oracle(n)\n",
    "#oracle = constant_oracle(n)\n",
    "\n",
    "dj_circuit += oracle\n",
    "\n",
    "dj_circuit.barrier()\n",
    "# Repeat H-gates\n",
    "for qubit in range(n):\n",
    "    dj_circuit.h(qubit)\n",
    "    \n",
    "dj_circuit.barrier()\n",
    "\n",
    "# Measure\n",
    "for i in range(n):\n",
    "    dj_circuit.measure(i, i)\n",
    "\n",
    "# Display circuit\n",
    "dj_circuit.draw()"
   ]
  },
  {
   "cell_type": "code",
   "execution_count": 113,
   "metadata": {},
   "outputs": [
    {
     "data": {
      "image/png": "[encoded data removed]",
      "text/plain": [
       "<Figure size 504x360 with 1 Axes>"
      ]
     },
     "execution_count": 113,
     "metadata": {},
     "output_type": "execute_result"
    }
   ],
   "source": [
    "# use local simulator\n",
    "aer_sim = Aer.get_backend('aer_simulator')\n",
    "qobj = assemble(dj_circuit, aer_sim)\n",
    "results = aer_sim.run(qobj).result()\n",
    "answer = results.get_counts()\n",
    "\n",
    "plot_histogram(answer)"
   ]
  },
  {
   "cell_type": "code",
   "execution_count": null,
   "metadata": {},
   "outputs": [],
   "source": []
  },
  {
   "cell_type": "markdown",
   "metadata": {},
   "source": [
    "# Qiskit excercises 3.2.6"
   ]
  },
  {
   "cell_type": "code",
   "execution_count": 119,
   "metadata": {},
   "outputs": [],
   "source": [
    "from qiskit_textbook.problems import dj_problem_oracle\n",
    "oracle = dj_problem_oracle(1)\n",
    "n=5\n",
    "dj_circuit = QuantumCircuit(n+1, n)"
   ]
  },
  {
   "cell_type": "code",
   "execution_count": 120,
   "metadata": {},
   "outputs": [
    {
     "data": {
      "text/html": [
       "<pre style=\"word-wrap: normal;white-space: pre;background: #fff0;line-height: 1.1;font-family: &quot;Courier New&quot;,Courier,monospace\">                         \n",
       "q_0: ──■─────────────────\n",
       "       │                 \n",
       "q_1: ──┼────■────────────\n",
       "       │    │            \n",
       "q_2: ──┼────┼────■───────\n",
       "       │    │    │       \n",
       "q_3: ──┼────┼────┼────■──\n",
       "     ┌─┴─┐┌─┴─┐┌─┴─┐┌─┴─┐\n",
       "q_4: ┤ X ├┤ X ├┤ X ├┤ X ├\n",
       "     └───┘└───┘└───┘└───┘</pre>"
      ],
      "text/plain": [
       "                         \n",
       "q_0: ──■─────────────────\n",
       "       │                 \n",
       "q_1: ──┼────■────────────\n",
       "       │    │            \n",
       "q_2: ──┼────┼────■───────\n",
       "       │    │    │       \n",
       "q_3: ──┼────┼────┼────■──\n",
       "     ┌─┴─┐┌─┴─┐┌─┴─┐┌─┴─┐\n",
       "q_4: ┤ X ├┤ X ├┤ X ├┤ X ├\n",
       "     └───┘└───┘└───┘└───┘"
      ]
     },
     "execution_count": 120,
     "metadata": {},
     "output_type": "execute_result"
    }
   ],
   "source": [
    "# This oracle coming from qiskit_textbook.problems belongs to the Instruction class,\n",
    "# that's why we use the .definition attribute (in order to make it a QuantumCircuit object)\n",
    "oracle.definition.draw()"
   ]
  },
  {
   "cell_type": "markdown",
   "metadata": {},
   "source": [
    "# Test the above oracles"
   ]
  },
  {
   "cell_type": "code",
   "execution_count": 127,
   "metadata": {},
   "outputs": [
    {
     "name": "stderr",
     "output_type": "stream",
     "text": [
      "/home/zobination/anaconda3/lib/python3.7/site-packages/ipykernel_launcher.py:24: DeprecationWarning: The QuantumCircuit.__iadd__() method is being deprecated. Use the compose() (potentially with the inplace=True argument) and tensor() methods which are more flexible w.r.t circuit register compatibility.\n"
     ]
    },
    {
     "data": {
      "text/html": [
       "<pre style=\"word-wrap: normal;white-space: pre;background: #fff0;line-height: 1.1;font-family: &quot;Courier New&quot;,Courier,monospace\">     ┌───┐ ░            ░       ░ ┌───┐ ░ ┌─┐         \n",
       "q_0: ┤ H ├─░────────────░───────░─┤ H ├─░─┤M├─────────\n",
       "     ├───┤ ░            ░       ░ ├───┤ ░ └╥┘┌─┐      \n",
       "q_1: ┤ H ├─░────────────░───────░─┤ H ├─░──╫─┤M├──────\n",
       "     ├───┤ ░            ░       ░ ├───┤ ░  ║ └╥┘┌─┐   \n",
       "q_2: ┤ H ├─░────────────░───■───░─┤ H ├─░──╫──╫─┤M├───\n",
       "     ├───┤ ░            ░   │   ░ ├───┤ ░  ║  ║ └╥┘┌─┐\n",
       "q_3: ┤ H ├─░────────────░───┼───░─┤ H ├─░──╫──╫──╫─┤M├\n",
       "     └───┘ ░ ┌───┐┌───┐ ░ ┌─┴─┐ ░ └───┘ ░  ║  ║  ║ └╥┘\n",
       "q_4: ──────░─┤ X ├┤ H ├─░─┤ X ├─░───────░──╫──╫──╫──╫─\n",
       "           ░ └───┘└───┘ ░ └───┘ ░       ░  ║  ║  ║  ║ \n",
       "c: 4/══════════════════════════════════════╩══╩══╩══╩═\n",
       "                                           0  1  2  3 </pre>"
      ],
      "text/plain": [
       "     ┌───┐ ░            ░       ░ ┌───┐ ░ ┌─┐         \n",
       "q_0: ┤ H ├─░────────────░───────░─┤ H ├─░─┤M├─────────\n",
       "     ├───┤ ░            ░       ░ ├───┤ ░ └╥┘┌─┐      \n",
       "q_1: ┤ H ├─░────────────░───────░─┤ H ├─░──╫─┤M├──────\n",
       "     ├───┤ ░            ░       ░ ├───┤ ░  ║ └╥┘┌─┐   \n",
       "q_2: ┤ H ├─░────────────░───■───░─┤ H ├─░──╫──╫─┤M├───\n",
       "     ├───┤ ░            ░   │   ░ ├───┤ ░  ║  ║ └╥┘┌─┐\n",
       "q_3: ┤ H ├─░────────────░───┼───░─┤ H ├─░──╫──╫──╫─┤M├\n",
       "     └───┘ ░ ┌───┐┌───┐ ░ ┌─┴─┐ ░ └───┘ ░  ║  ║  ║ └╥┘\n",
       "q_4: ──────░─┤ X ├┤ H ├─░─┤ X ├─░───────░──╫──╫──╫──╫─\n",
       "           ░ └───┘└───┘ ░ └───┘ ░       ░  ║  ║  ║  ║ \n",
       "c: 4/══════════════════════════════════════╩══╩══╩══╩═\n",
       "                                           0  1  2  3 "
      ]
     },
     "execution_count": 127,
     "metadata": {},
     "output_type": "execute_result"
    }
   ],
   "source": [
    "# set the length of the n-bit input string. \n",
    "n = 4\n",
    "\n",
    "\n",
    "\n",
    "dj_circuit = QuantumCircuit(n+1, n)\n",
    "\n",
    "# Apply H-gates\n",
    "for qubit in range(n):\n",
    "    dj_circuit.h(qubit)\n",
    "dj_circuit.barrier()\n",
    "\n",
    "# Put qubit in state |->\n",
    "dj_circuit.x(n)\n",
    "dj_circuit.h(n)\n",
    "\n",
    "dj_circuit.barrier()\n",
    "# Add oracle\n",
    "\n",
    "#oracle = balanced_oracle(n)\n",
    "#oracle = constant_oracle(n)\n",
    "oracle = dj_problem_oracle(4)\n",
    "\n",
    "dj_circuit += oracle.definition\n",
    "\n",
    "dj_circuit.barrier()\n",
    "# Repeat H-gates\n",
    "for qubit in range(n):\n",
    "    dj_circuit.h(qubit)\n",
    "    \n",
    "dj_circuit.barrier()\n",
    "\n",
    "# Measure\n",
    "for i in range(n):\n",
    "    dj_circuit.measure(i, i)\n",
    "\n",
    "# Display circuit\n",
    "dj_circuit.draw()"
   ]
  },
  {
   "cell_type": "code",
   "execution_count": 128,
   "metadata": {},
   "outputs": [
    {
     "data": {
      "image/png": "[encoded data removed]",
      "text/plain": [
       "<Figure size 504x360 with 1 Axes>"
      ]
     },
     "execution_count": 128,
     "metadata": {},
     "output_type": "execute_result"
    }
   ],
   "source": [
    "# use local simulator\n",
    "aer_sim = Aer.get_backend('aer_simulator')\n",
    "qobj = assemble(dj_circuit, aer_sim)\n",
    "results = aer_sim.run(qobj).result()\n",
    "answer = results.get_counts()\n",
    "\n",
    "plot_histogram(answer)"
   ]
  },
  {
   "cell_type": "code",
   "execution_count": null,
   "metadata": {},
   "outputs": [],
   "source": []
  },
  {
   "cell_type": "code",
   "execution_count": null,
   "metadata": {},
   "outputs": [],
   "source": []
  }
 ],
 "metadata": {
  "kernelspec": {
   "display_name": "Python 3.10.8 64-bit",
   "language": "python",
   "name": "python3"
  },
  "language_info": {
   "codemirror_mode": {
    "name": "ipython",
    "version": 3
   },
   "file_extension": ".py",
   "mimetype": "text/x-python",
   "name": "python",
   "nbconvert_exporter": "python",
   "pygments_lexer": "ipython3",
   "version": "3.10.8"
  },
  "vscode": {
   "interpreter": {
    "hash": "e7370f93d1d0cde622a1f8e1c04877d8463912d04d973331ad4851f04de6915a"
   }
  }
 },
 "nbformat": 4,
 "nbformat_minor": 4
}
