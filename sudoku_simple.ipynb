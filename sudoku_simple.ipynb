{
 "cells": [
  {
   "cell_type": "code",
   "execution_count": 66,
   "metadata": {},
   "outputs": [],
   "source": [
    "#initialization\n",
    "import matplotlib.pyplot as plt\n",
    "import numpy as np\n",
    "\n",
    "# importing Qiskit\n",
    "from qiskit import IBMQ, Aer, assemble, transpile\n",
    "from qiskit import QuantumCircuit, ClassicalRegister, QuantumRegister\n",
    "from qiskit.providers.ibmq import least_busy\n",
    "\n",
    "# import basic plot tools\n",
    "from qiskit.visualization import plot_histogram"
   ]
  },
  {
   "cell_type": "code",
   "execution_count": null,
   "metadata": {},
   "outputs": [],
   "source": []
  },
  {
   "cell_type": "code",
   "execution_count": 67,
   "metadata": {},
   "outputs": [],
   "source": [
    "clause_list = [[0,1],\n",
    "               [2,3],\n",
    "               [0,2],\n",
    "               [1,3]\n",
    "               ]\n",
    "\n",
    "# list of clauses for the sudoku 2x2 game\n",
    "# clauses or rules are 1) No column may contain the same value twice\n",
    "#                      2) No row may contain the same value twice\n",
    "\n",
    "# |v0|v1|\n",
    "# |v2|v3| \n",
    "\n",
    "# In clause_list we declare 4 clauses or constraints, the first two for the rows and the last two for the cols"
   ]
  },
  {
   "cell_type": "code",
   "execution_count": 68,
   "metadata": {},
   "outputs": [],
   "source": [
    "def XOR(qc, a, b, output):\n",
    "    qc.cx(a, output)\n",
    "    qc.cx(b, output)"
   ]
  },
  {
   "cell_type": "code",
   "execution_count": 69,
   "metadata": {},
   "outputs": [
    {
     "data": {
      "text/html": [
       "<pre style=\"word-wrap: normal;white-space: pre;background: #fff0;line-height: 1.1;font-family: &quot;Courier New&quot;,Courier,monospace\">                   \n",
       "input_0: ──■───────\n",
       "           │       \n",
       "input_1: ──┼────■──\n",
       "         ┌─┴─┐┌─┴─┐\n",
       " output: ┤ X ├┤ X ├\n",
       "         └───┘└───┘</pre>"
      ],
      "text/plain": [
       "                   \n",
       "input_0: ──■───────\n",
       "           │       \n",
       "input_1: ──┼────■──\n",
       "         ┌─┴─┐┌─┴─┐\n",
       " output: ┤ X ├┤ X ├\n",
       "         └───┘└───┘"
      ]
     },
     "execution_count": 69,
     "metadata": {},
     "output_type": "execute_result"
    }
   ],
   "source": [
    "# We will use separate registers to name the bits\n",
    "in_qubits = QuantumRegister(2, name='input')\n",
    "out_qubit = QuantumRegister(1, name='output')\n",
    "qc = QuantumCircuit(in_qubits, out_qubit)\n",
    "#qc.x(1)\n",
    "\n",
    "XOR(qc, in_qubits[0], in_qubits[1], out_qubit)\n",
    "qc.draw()"
   ]
  },
  {
   "cell_type": "code",
   "execution_count": 70,
   "metadata": {},
   "outputs": [
    {
     "data": {
      "image/png": "[encoded data removed]",
      "text/plain": [
       "<Figure size 504x360 with 1 Axes>"
      ]
     },
     "execution_count": 70,
     "metadata": {},
     "output_type": "execute_result"
    }
   ],
   "source": [
    "qc.measure_all()\n",
    "\n",
    "aer_sim = Aer.get_backend('aer_simulator')\n",
    "qobj = assemble(qc)\n",
    "result = aer_sim.run(qobj).result()\n",
    "counts = result.get_counts()\n",
    "plot_histogram(counts)"
   ]
  },
  {
   "cell_type": "code",
   "execution_count": 71,
   "metadata": {},
   "outputs": [
    {
     "data": {
      "text/html": [
       "<pre style=\"word-wrap: normal;white-space: pre;background: #fff0;line-height: 1.1;font-family: &quot;Courier New&quot;,Courier,monospace\">                                             \n",
       "v_0: ──■───────────────────■─────────────────\n",
       "       │                   │                 \n",
       "v_1: ──┼─────────■─────────┼─────────■───────\n",
       "       │         │         │         │       \n",
       "v_2: ──┼────■────┼─────────┼────■────┼───────\n",
       "       │    │    │         │    │    │       \n",
       "v_3: ──┼────┼────┼────■────┼────┼────┼────■──\n",
       "     ┌─┴─┐  │  ┌─┴─┐  │    │    │    │    │  \n",
       "c_0: ┤ X ├──┼──┤ X ├──┼────┼────┼────┼────┼──\n",
       "     └───┘┌─┴─┐└───┘┌─┴─┐  │    │    │    │  \n",
       "c_1: ─────┤ X ├─────┤ X ├──┼────┼────┼────┼──\n",
       "          └───┘     └───┘┌─┴─┐┌─┴─┐  │    │  \n",
       "c_2: ────────────────────┤ X ├┤ X ├──┼────┼──\n",
       "                         └───┘└───┘┌─┴─┐┌─┴─┐\n",
       "c_3: ──────────────────────────────┤ X ├┤ X ├\n",
       "                                   └───┘└───┘</pre>"
      ],
      "text/plain": [
       "                                             \n",
       "v_0: ──■───────────────────■─────────────────\n",
       "       │                   │                 \n",
       "v_1: ──┼─────────■─────────┼─────────■───────\n",
       "       │         │         │         │       \n",
       "v_2: ──┼────■────┼─────────┼────■────┼───────\n",
       "       │    │    │         │    │    │       \n",
       "v_3: ──┼────┼────┼────■────┼────┼────┼────■──\n",
       "     ┌─┴─┐  │  ┌─┴─┐  │    │    │    │    │  \n",
       "c_0: ┤ X ├──┼──┤ X ├──┼────┼────┼────┼────┼──\n",
       "     └───┘┌─┴─┐└───┘┌─┴─┐  │    │    │    │  \n",
       "c_1: ─────┤ X ├─────┤ X ├──┼────┼────┼────┼──\n",
       "          └───┘     └───┘┌─┴─┐┌─┴─┐  │    │  \n",
       "c_2: ────────────────────┤ X ├┤ X ├──┼────┼──\n",
       "                         └───┘└───┘┌─┴─┐┌─┴─┐\n",
       "c_3: ──────────────────────────────┤ X ├┤ X ├\n",
       "                                   └───┘└───┘"
      ]
     },
     "execution_count": 71,
     "metadata": {},
     "output_type": "execute_result"
    }
   ],
   "source": [
    "# Create separate registers to name bits\n",
    "var_qubits = QuantumRegister(4, name='v')  # variable bits\n",
    "clause_qubits = QuantumRegister(4, name='c')  # bits to store clause-checks\n",
    "\n",
    "# Create quantum circuit\n",
    "qc = QuantumCircuit(var_qubits, clause_qubits)\n",
    "\n",
    "# Use XOR gate to check each clause\n",
    "i = 0\n",
    "for clause in clause_list:\n",
    "    XOR(qc, clause[0], clause[1], clause_qubits[i])\n",
    "    i += 1\n",
    "\n",
    "qc.draw()"
   ]
  },
  {
   "cell_type": "code",
   "execution_count": 72,
   "metadata": {},
   "outputs": [
    {
     "data": {
      "text/html": [
       "<pre style=\"word-wrap: normal;white-space: pre;background: #fff0;line-height: 1.1;font-family: &quot;Courier New&quot;,Courier,monospace\">                                                  \n",
       "v_0: ──■───────────────────■──────────────────────\n",
       "       │                   │                      \n",
       "v_1: ──┼─────────■─────────┼─────────■────────────\n",
       "       │         │         │         │            \n",
       "v_2: ──┼────■────┼─────────┼────■────┼────────────\n",
       "       │    │    │         │    │    │            \n",
       "v_3: ──┼────┼────┼────■────┼────┼────┼────■───────\n",
       "     ┌─┴─┐  │  ┌─┴─┐  │    │    │    │    │       \n",
       "c_0: ┤ X ├──┼──┤ X ├──┼────┼────┼────┼────┼────■──\n",
       "     └───┘┌─┴─┐└───┘┌─┴─┐  │    │    │    │    │  \n",
       "c_1: ─────┤ X ├─────┤ X ├──┼────┼────┼────┼────■──\n",
       "          └───┘     └───┘┌─┴─┐┌─┴─┐  │    │    │  \n",
       "c_2: ────────────────────┤ X ├┤ X ├──┼────┼────■──\n",
       "                         └───┘└───┘┌─┴─┐┌─┴─┐  │  \n",
       "c_3: ──────────────────────────────┤ X ├┤ X ├──■──\n",
       "                                   └───┘└───┘┌─┴─┐\n",
       "out: ────────────────────────────────────────┤ X ├\n",
       "                                             └───┘</pre>"
      ],
      "text/plain": [
       "                                                  \n",
       "v_0: ──■───────────────────■──────────────────────\n",
       "       │                   │                      \n",
       "v_1: ──┼─────────■─────────┼─────────■────────────\n",
       "       │         │         │         │            \n",
       "v_2: ──┼────■────┼─────────┼────■────┼────────────\n",
       "       │    │    │         │    │    │            \n",
       "v_3: ──┼────┼────┼────■────┼────┼────┼────■───────\n",
       "     ┌─┴─┐  │  ┌─┴─┐  │    │    │    │    │       \n",
       "c_0: ┤ X ├──┼──┤ X ├──┼────┼────┼────┼────┼────■──\n",
       "     └───┘┌─┴─┐└───┘┌─┴─┐  │    │    │    │    │  \n",
       "c_1: ─────┤ X ├─────┤ X ├──┼────┼────┼────┼────■──\n",
       "          └───┘     └───┘┌─┴─┐┌─┴─┐  │    │    │  \n",
       "c_2: ────────────────────┤ X ├┤ X ├──┼────┼────■──\n",
       "                         └───┘└───┘┌─┴─┐┌─┴─┐  │  \n",
       "c_3: ──────────────────────────────┤ X ├┤ X ├──■──\n",
       "                                   └───┘└───┘┌─┴─┐\n",
       "out: ────────────────────────────────────────┤ X ├\n",
       "                                             └───┘"
      ]
     },
     "execution_count": 72,
     "metadata": {},
     "output_type": "execute_result"
    }
   ],
   "source": [
    "# Create separate registers to name bits\n",
    "var_qubits = QuantumRegister(4, name='v')\n",
    "clause_qubits = QuantumRegister(4, name='c')\n",
    "output_qubit = QuantumRegister(1, name='out')\n",
    "qc = QuantumCircuit(var_qubits, clause_qubits, output_qubit)\n",
    "\n",
    "# Compute clauses\n",
    "i = 0\n",
    "for clause in clause_list:\n",
    "    XOR(qc, clause[0], clause[1], clause_qubits[i])\n",
    "    i += 1\n",
    "\n",
    "# Flip 'output' bit if all clauses are satisfied\n",
    "qc.mct(clause_qubits, output_qubit)\n",
    "\n",
    "qc.draw()"
   ]
  },
  {
   "cell_type": "code",
   "execution_count": 73,
   "metadata": {},
   "outputs": [
    {
     "data": {
      "text/html": [
       "<pre style=\"word-wrap: normal;white-space: pre;background: #fff0;line-height: 1.1;font-family: &quot;Courier New&quot;,Courier,monospace\">                                                                               »\n",
       "    v_0: ──■───────────────────■────────────────────────■───────────────────■──»\n",
       "           │                   │                        │                   │  »\n",
       "    v_1: ──┼─────────■─────────┼─────────■──────────────┼─────────■─────────┼──»\n",
       "           │         │         │         │              │         │         │  »\n",
       "    v_2: ──┼────■────┼─────────┼────■────┼──────────────┼────■────┼─────────┼──»\n",
       "           │    │    │         │    │    │              │    │    │         │  »\n",
       "    v_3: ──┼────┼────┼────■────┼────┼────┼────■─────────┼────┼────┼────■────┼──»\n",
       "         ┌─┴─┐  │  ┌─┴─┐  │    │    │    │    │       ┌─┴─┐  │  ┌─┴─┐  │    │  »\n",
       "    c_0: ┤ X ├──┼──┤ X ├──┼────┼────┼────┼────┼────■──┤ X ├──┼──┤ X ├──┼────┼──»\n",
       "         └───┘┌─┴─┐└───┘┌─┴─┐  │    │    │    │    │  └───┘┌─┴─┐└───┘┌─┴─┐  │  »\n",
       "    c_1: ─────┤ X ├─────┤ X ├──┼────┼────┼────┼────■───────┤ X ├─────┤ X ├──┼──»\n",
       "              └───┘     └───┘┌─┴─┐┌─┴─┐  │    │    │       └───┘     └───┘┌─┴─┐»\n",
       "    c_2: ────────────────────┤ X ├┤ X ├──┼────┼────■──────────────────────┤ X ├»\n",
       "                             └───┘└───┘┌─┴─┐┌─┴─┐  │                      └───┘»\n",
       "    c_3: ──────────────────────────────┤ X ├┤ X ├──■───────────────────────────»\n",
       "                                       └───┘└───┘┌─┴─┐                         »\n",
       "    out: ────────────────────────────────────────┤ X ├─────────────────────────»\n",
       "                                                 └───┘                         »\n",
       "cbits: 4/══════════════════════════════════════════════════════════════════════»\n",
       "                                                                               »\n",
       "«                        \n",
       "«    v_0: ───────────────\n",
       "«                        \n",
       "«    v_1: ───────■───────\n",
       "«                │       \n",
       "«    v_2: ──■────┼───────\n",
       "«           │    │       \n",
       "«    v_3: ──┼────┼────■──\n",
       "«           │    │    │  \n",
       "«    c_0: ──┼────┼────┼──\n",
       "«           │    │    │  \n",
       "«    c_1: ──┼────┼────┼──\n",
       "«         ┌─┴─┐  │    │  \n",
       "«    c_2: ┤ X ├──┼────┼──\n",
       "«         └───┘┌─┴─┐┌─┴─┐\n",
       "«    c_3: ─────┤ X ├┤ X ├\n",
       "«              └───┘└───┘\n",
       "«    out: ───────────────\n",
       "«                        \n",
       "«cbits: 4/═══════════════\n",
       "«                        </pre>"
      ],
      "text/plain": [
       "                                                                               »\n",
       "    v_0: ──■───────────────────■────────────────────────■───────────────────■──»\n",
       "           │                   │                        │                   │  »\n",
       "    v_1: ──┼─────────■─────────┼─────────■──────────────┼─────────■─────────┼──»\n",
       "           │         │         │         │              │         │         │  »\n",
       "    v_2: ──┼────■────┼─────────┼────■────┼──────────────┼────■────┼─────────┼──»\n",
       "           │    │    │         │    │    │              │    │    │         │  »\n",
       "    v_3: ──┼────┼────┼────■────┼────┼────┼────■─────────┼────┼────┼────■────┼──»\n",
       "         ┌─┴─┐  │  ┌─┴─┐  │    │    │    │    │       ┌─┴─┐  │  ┌─┴─┐  │    │  »\n",
       "    c_0: ┤ X ├──┼──┤ X ├──┼────┼────┼────┼────┼────■──┤ X ├──┼──┤ X ├──┼────┼──»\n",
       "         └───┘┌─┴─┐└───┘┌─┴─┐  │    │    │    │    │  └───┘┌─┴─┐└───┘┌─┴─┐  │  »\n",
       "    c_1: ─────┤ X ├─────┤ X ├──┼────┼────┼────┼────■───────┤ X ├─────┤ X ├──┼──»\n",
       "              └───┘     └───┘┌─┴─┐┌─┴─┐  │    │    │       └───┘     └───┘┌─┴─┐»\n",
       "    c_2: ────────────────────┤ X ├┤ X ├──┼────┼────■──────────────────────┤ X ├»\n",
       "                             └───┘└───┘┌─┴─┐┌─┴─┐  │                      └───┘»\n",
       "    c_3: ──────────────────────────────┤ X ├┤ X ├──■───────────────────────────»\n",
       "                                       └───┘└───┘┌─┴─┐                         »\n",
       "    out: ────────────────────────────────────────┤ X ├─────────────────────────»\n",
       "                                                 └───┘                         »\n",
       "cbits: 4/══════════════════════════════════════════════════════════════════════»\n",
       "                                                                               »\n",
       "«                        \n",
       "«    v_0: ───────────────\n",
       "«                        \n",
       "«    v_1: ───────■───────\n",
       "«                │       \n",
       "«    v_2: ──■────┼───────\n",
       "«           │    │       \n",
       "«    v_3: ──┼────┼────■──\n",
       "«           │    │    │  \n",
       "«    c_0: ──┼────┼────┼──\n",
       "«           │    │    │  \n",
       "«    c_1: ──┼────┼────┼──\n",
       "«         ┌─┴─┐  │    │  \n",
       "«    c_2: ┤ X ├──┼────┼──\n",
       "«         └───┘┌─┴─┐┌─┴─┐\n",
       "«    c_3: ─────┤ X ├┤ X ├\n",
       "«              └───┘└───┘\n",
       "«    out: ───────────────\n",
       "«                        \n",
       "«cbits: 4/═══════════════\n",
       "«                        "
      ]
     },
     "execution_count": 73,
     "metadata": {},
     "output_type": "execute_result"
    }
   ],
   "source": [
    "var_qubits = QuantumRegister(4, name='v')\n",
    "clause_qubits = QuantumRegister(4, name='c')\n",
    "output_qubit = QuantumRegister(1, name='out')\n",
    "cbits = ClassicalRegister(4, name='cbits')\n",
    "qc = QuantumCircuit(var_qubits, clause_qubits, output_qubit, cbits)\n",
    "\n",
    "def sudoku_oracle(qc, clause_list, clause_qubits):\n",
    "    # Compute clauses\n",
    "    i = 0\n",
    "    for clause in clause_list:\n",
    "        XOR(qc, clause[0], clause[1], clause_qubits[i])\n",
    "        i += 1\n",
    "\n",
    "    # Flip 'output' bit if all clauses are satisfied\n",
    "    qc.mct(clause_qubits, output_qubit)\n",
    "\n",
    "    # Uncompute clauses to reset clause-checking bits to 0\n",
    "    i = 0\n",
    "    for clause in clause_list:\n",
    "        XOR(qc, clause[0], clause[1], clause_qubits[i])\n",
    "        i += 1\n",
    "\n",
    "sudoku_oracle(qc, clause_list, clause_qubits)\n",
    "qc.draw()"
   ]
  },
  {
   "cell_type": "code",
   "execution_count": 74,
   "metadata": {},
   "outputs": [],
   "source": [
    "def diffuser(nqubits):\n",
    "    qc = QuantumCircuit(nqubits)\n",
    "    # Apply transformation |s> -> |00..0> (H-gates)\n",
    "    for qubit in range(nqubits):\n",
    "        qc.h(qubit)\n",
    "    # Apply transformation |00..0> -> |11..1> (X-gates)\n",
    "    for qubit in range(nqubits):\n",
    "        qc.x(qubit)\n",
    "    # Do multi-controlled-Z gate\n",
    "    qc.h(nqubits-1)\n",
    "    qc.mct(list(range(nqubits-1)), nqubits-1)  # multi-controlled-toffoli\n",
    "    qc.h(nqubits-1)\n",
    "    # Apply transformation |11..1> -> |00..0>\n",
    "    for qubit in range(nqubits):\n",
    "        qc.x(qubit)\n",
    "    # Apply transformation |00..0> -> |s>\n",
    "    for qubit in range(nqubits):\n",
    "        qc.h(qubit)\n",
    "    # We will return the diffuser as a gate\n",
    "    U_s = qc.to_gate()\n",
    "    U_s.name = \"U_s\"\n",
    "    return U_s"
   ]
  },
  {
   "cell_type": "code",
   "execution_count": 77,
   "metadata": {},
   "outputs": [
    {
     "data": {
      "text/html": [
       "<pre style=\"word-wrap: normal;white-space: pre;background: #fff0;line-height: 1.1;font-family: &quot;Courier New&quot;,Courier,monospace\">                      ┌───┐               ░                                                                                       ░ ┌──────┐ ░                                                                                       ░ ┌──────┐ ░ ┌─┐         \n",
       "    v_0: ─────────────┤ H ├───────────────░───■───────────────────■────────────────────────■───────────────────■──────────────────░─┤0     ├─░───■───────────────────■────────────────────────■───────────────────■──────────────────░─┤0     ├─░─┤M├─────────\n",
       "                      ├───┤               ░   │                   │                        │                   │                  ░ │      │ ░   │                   │                        │                   │                  ░ │      │ ░ └╥┘┌─┐      \n",
       "    v_1: ─────────────┤ H ├───────────────░───┼─────────■─────────┼─────────■──────────────┼─────────■─────────┼─────────■────────░─┤1     ├─░───┼─────────■─────────┼─────────■──────────────┼─────────■─────────┼─────────■────────░─┤1     ├─░──╫─┤M├──────\n",
       "                      ├───┤               ░   │         │         │         │              │         │         │         │        ░ │  U_s │ ░   │         │         │         │              │         │         │         │        ░ │  U_s │ ░  ║ └╥┘┌─┐   \n",
       "    v_2: ─────────────┤ H ├───────────────░───┼────■────┼─────────┼────■────┼──────────────┼────■────┼─────────┼────■────┼────────░─┤2     ├─░───┼────■────┼─────────┼────■────┼──────────────┼────■────┼─────────┼────■────┼────────░─┤2     ├─░──╫──╫─┤M├───\n",
       "                      ├───┤               ░   │    │    │         │    │    │              │    │    │         │    │    │        ░ │      │ ░   │    │    │         │    │    │              │    │    │         │    │    │        ░ │      │ ░  ║  ║ └╥┘┌─┐\n",
       "    v_3: ─────────────┤ H ├───────────────░───┼────┼────┼────■────┼────┼────┼────■─────────┼────┼────┼────■────┼────┼────┼────■───░─┤3     ├─░───┼────┼────┼────■────┼────┼────┼────■─────────┼────┼────┼────■────┼────┼────┼────■───░─┤3     ├─░──╫──╫──╫─┤M├\n",
       "                      └───┘               ░ ┌─┴─┐  │  ┌─┴─┐  │    │    │    │    │       ┌─┴─┐  │  ┌─┴─┐  │    │    │    │    │   ░ └──────┘ ░ ┌─┴─┐  │  ┌─┴─┐  │    │    │    │    │       ┌─┴─┐  │  ┌─┴─┐  │    │    │    │    │   ░ └──────┘ ░  ║  ║  ║ └╥┘\n",
       "    c_0: ─────────────────────────────────░─┤ X ├──┼──┤ X ├──┼────┼────┼────┼────┼────■──┤ X ├──┼──┤ X ├──┼────┼────┼────┼────┼───░──────────░─┤ X ├──┼──┤ X ├──┼────┼────┼────┼────┼────■──┤ X ├──┼──┤ X ├──┼────┼────┼────┼────┼───░──────────░──╫──╫──╫──╫─\n",
       "                                          ░ └───┘┌─┴─┐└───┘┌─┴─┐  │    │    │    │    │  └───┘┌─┴─┐└───┘┌─┴─┐  │    │    │    │   ░          ░ └───┘┌─┴─┐└───┘┌─┴─┐  │    │    │    │    │  └───┘┌─┴─┐└───┘┌─┴─┐  │    │    │    │   ░          ░  ║  ║  ║  ║ \n",
       "    c_1: ─────────────────────────────────░──────┤ X ├─────┤ X ├──┼────┼────┼────┼────■───────┤ X ├─────┤ X ├──┼────┼────┼────┼───░──────────░──────┤ X ├─────┤ X ├──┼────┼────┼────┼────■───────┤ X ├─────┤ X ├──┼────┼────┼────┼───░──────────░──╫──╫──╫──╫─\n",
       "                                          ░      └───┘     └───┘┌─┴─┐┌─┴─┐  │    │    │       └───┘     └───┘┌─┴─┐┌─┴─┐  │    │   ░          ░      └───┘     └───┘┌─┴─┐┌─┴─┐  │    │    │       └───┘     └───┘┌─┴─┐┌─┴─┐  │    │   ░          ░  ║  ║  ║  ║ \n",
       "    c_2: ─────────────────────────────────░─────────────────────┤ X ├┤ X ├──┼────┼────■──────────────────────┤ X ├┤ X ├──┼────┼───░──────────░─────────────────────┤ X ├┤ X ├──┼────┼────■──────────────────────┤ X ├┤ X ├──┼────┼───░──────────░──╫──╫──╫──╫─\n",
       "                                          ░                     └───┘└───┘┌─┴─┐┌─┴─┐  │                      └───┘└───┘┌─┴─┐┌─┴─┐ ░          ░                     └───┘└───┘┌─┴─┐┌─┴─┐  │                      └───┘└───┘┌─┴─┐┌─┴─┐ ░          ░  ║  ║  ║  ║ \n",
       "    c_3: ─────────────────────────────────░───────────────────────────────┤ X ├┤ X ├──■────────────────────────────────┤ X ├┤ X ├─░──────────░───────────────────────────────┤ X ├┤ X ├──■────────────────────────────────┤ X ├┤ X ├─░──────────░──╫──╫──╫──╫─\n",
       "         ┌──────────────────────────────┐ ░                               └───┘└───┘┌─┴─┐                              └───┘└───┘ ░          ░                               └───┘└───┘┌─┴─┐                              └───┘└───┘ ░          ░  ║  ║  ║  ║ \n",
       "    out: ┤ Initialize(0.70711,-0.70711) ├─░─────────────────────────────────────────┤ X ├─────────────────────────────────────────░──────────░─────────────────────────────────────────┤ X ├─────────────────────────────────────────░──────────░──╫──╫──╫──╫─\n",
       "         └──────────────────────────────┘ ░                                         └───┘                                         ░          ░                                         └───┘                                         ░          ░  ║  ║  ║  ║ \n",
       "cbits: 4/══════════════════════════════════════════════════════════════════════════════════════════════════════════════════════════════════════════════════════════════════════════════════════════════════════════════════════════════════════════╩══╩══╩══╩═\n",
       "                                                                                                                                                                                                                                                   0  1  2  3 </pre>"
      ],
      "text/plain": [
       "                      ┌───┐               ░                                                                                       ░ ┌──────┐ ░                                                                                       ░ ┌──────┐ ░ ┌─┐         \n",
       "    v_0: ─────────────┤ H ├───────────────░───■───────────────────■────────────────────────■───────────────────■──────────────────░─┤0     ├─░───■───────────────────■────────────────────────■───────────────────■──────────────────░─┤0     ├─░─┤M├─────────\n",
       "                      ├───┤               ░   │                   │                        │                   │                  ░ │      │ ░   │                   │                        │                   │                  ░ │      │ ░ └╥┘┌─┐      \n",
       "    v_1: ─────────────┤ H ├───────────────░───┼─────────■─────────┼─────────■──────────────┼─────────■─────────┼─────────■────────░─┤1     ├─░───┼─────────■─────────┼─────────■──────────────┼─────────■─────────┼─────────■────────░─┤1     ├─░──╫─┤M├──────\n",
       "                      ├───┤               ░   │         │         │         │              │         │         │         │        ░ │  U_s │ ░   │         │         │         │              │         │         │         │        ░ │  U_s │ ░  ║ └╥┘┌─┐   \n",
       "    v_2: ─────────────┤ H ├───────────────░───┼────■────┼─────────┼────■────┼──────────────┼────■────┼─────────┼────■────┼────────░─┤2     ├─░───┼────■────┼─────────┼────■────┼──────────────┼────■────┼─────────┼────■────┼────────░─┤2     ├─░──╫──╫─┤M├───\n",
       "                      ├───┤               ░   │    │    │         │    │    │              │    │    │         │    │    │        ░ │      │ ░   │    │    │         │    │    │              │    │    │         │    │    │        ░ │      │ ░  ║  ║ └╥┘┌─┐\n",
       "    v_3: ─────────────┤ H ├───────────────░───┼────┼────┼────■────┼────┼────┼────■─────────┼────┼────┼────■────┼────┼────┼────■───░─┤3     ├─░───┼────┼────┼────■────┼────┼────┼────■─────────┼────┼────┼────■────┼────┼────┼────■───░─┤3     ├─░──╫──╫──╫─┤M├\n",
       "                      └───┘               ░ ┌─┴─┐  │  ┌─┴─┐  │    │    │    │    │       ┌─┴─┐  │  ┌─┴─┐  │    │    │    │    │   ░ └──────┘ ░ ┌─┴─┐  │  ┌─┴─┐  │    │    │    │    │       ┌─┴─┐  │  ┌─┴─┐  │    │    │    │    │   ░ └──────┘ ░  ║  ║  ║ └╥┘\n",
       "    c_0: ─────────────────────────────────░─┤ X ├──┼──┤ X ├──┼────┼────┼────┼────┼────■──┤ X ├──┼──┤ X ├──┼────┼────┼────┼────┼───░──────────░─┤ X ├──┼──┤ X ├──┼────┼────┼────┼────┼────■──┤ X ├──┼──┤ X ├──┼────┼────┼────┼────┼───░──────────░──╫──╫──╫──╫─\n",
       "                                          ░ └───┘┌─┴─┐└───┘┌─┴─┐  │    │    │    │    │  └───┘┌─┴─┐└───┘┌─┴─┐  │    │    │    │   ░          ░ └───┘┌─┴─┐└───┘┌─┴─┐  │    │    │    │    │  └───┘┌─┴─┐└───┘┌─┴─┐  │    │    │    │   ░          ░  ║  ║  ║  ║ \n",
       "    c_1: ─────────────────────────────────░──────┤ X ├─────┤ X ├──┼────┼────┼────┼────■───────┤ X ├─────┤ X ├──┼────┼────┼────┼───░──────────░──────┤ X ├─────┤ X ├──┼────┼────┼────┼────■───────┤ X ├─────┤ X ├──┼────┼────┼────┼───░──────────░──╫──╫──╫──╫─\n",
       "                                          ░      └───┘     └───┘┌─┴─┐┌─┴─┐  │    │    │       └───┘     └───┘┌─┴─┐┌─┴─┐  │    │   ░          ░      └───┘     └───┘┌─┴─┐┌─┴─┐  │    │    │       └───┘     └───┘┌─┴─┐┌─┴─┐  │    │   ░          ░  ║  ║  ║  ║ \n",
       "    c_2: ─────────────────────────────────░─────────────────────┤ X ├┤ X ├──┼────┼────■──────────────────────┤ X ├┤ X ├──┼────┼───░──────────░─────────────────────┤ X ├┤ X ├──┼────┼────■──────────────────────┤ X ├┤ X ├──┼────┼───░──────────░──╫──╫──╫──╫─\n",
       "                                          ░                     └───┘└───┘┌─┴─┐┌─┴─┐  │                      └───┘└───┘┌─┴─┐┌─┴─┐ ░          ░                     └───┘└───┘┌─┴─┐┌─┴─┐  │                      └───┘└───┘┌─┴─┐┌─┴─┐ ░          ░  ║  ║  ║  ║ \n",
       "    c_3: ─────────────────────────────────░───────────────────────────────┤ X ├┤ X ├──■────────────────────────────────┤ X ├┤ X ├─░──────────░───────────────────────────────┤ X ├┤ X ├──■────────────────────────────────┤ X ├┤ X ├─░──────────░──╫──╫──╫──╫─\n",
       "         ┌──────────────────────────────┐ ░                               └───┘└───┘┌─┴─┐                              └───┘└───┘ ░          ░                               └───┘└───┘┌─┴─┐                              └───┘└───┘ ░          ░  ║  ║  ║  ║ \n",
       "    out: ┤ Initialize(0.70711,-0.70711) ├─░─────────────────────────────────────────┤ X ├─────────────────────────────────────────░──────────░─────────────────────────────────────────┤ X ├─────────────────────────────────────────░──────────░──╫──╫──╫──╫─\n",
       "         └──────────────────────────────┘ ░                                         └───┘                                         ░          ░                                         └───┘                                         ░          ░  ║  ║  ║  ║ \n",
       "cbits: 4/══════════════════════════════════════════════════════════════════════════════════════════════════════════════════════════════════════════════════════════════════════════════════════════════════════════════════════════════════════════╩══╩══╩══╩═\n",
       "                                                                                                                                                                                                                                                   0  1  2  3 "
      ]
     },
     "execution_count": 77,
     "metadata": {},
     "output_type": "execute_result"
    }
   ],
   "source": [
    "var_qubits = QuantumRegister(4, name='v')\n",
    "clause_qubits = QuantumRegister(4, name='c')\n",
    "output_qubit = QuantumRegister(1, name='out')\n",
    "cbits = ClassicalRegister(4, name='cbits')\n",
    "qc = QuantumCircuit(var_qubits, clause_qubits, output_qubit, cbits)\n",
    "\n",
    "num_layers = 2\n",
    "\n",
    "# Initialize 'out0' in state |->\n",
    "qc.initialize([1, -1]/np.sqrt(2), output_qubit)\n",
    "\n",
    "# Initialize qubits in state |s>\n",
    "qc.h(var_qubits)\n",
    "qc.barrier()  # for visual separation\n",
    "\n",
    "for j in range(num_layers):\n",
    "\n",
    "    ## First Iteration\n",
    "    # Apply our oracle\n",
    "    sudoku_oracle(qc, clause_list, clause_qubits)\n",
    "    qc.barrier()  # for visual separation\n",
    "    # Apply our diffuser\n",
    "    qc.append(diffuser(4), [0,1,2,3])\n",
    "    qc.barrier()\n",
    "\n",
    "# Measure the variable qubits\n",
    "qc.measure(var_qubits, cbits)\n",
    "\n",
    "qc.draw(fold=-1)"
   ]
  },
  {
   "cell_type": "code",
   "execution_count": 76,
   "metadata": {},
   "outputs": [
    {
     "data": {
      "image/png": "[encoded data removed]",
      "text/plain": [
       "<Figure size 504x360 with 1 Axes>"
      ]
     },
     "execution_count": 76,
     "metadata": {},
     "output_type": "execute_result"
    }
   ],
   "source": [
    "# Simulate and plot results\n",
    "aer_simulator = Aer.get_backend('aer_simulator')\n",
    "transpiled_qc = transpile(qc, aer_simulator)\n",
    "qobj = assemble(transpiled_qc)\n",
    "result = aer_sim.run(qobj).result()\n",
    "plot_histogram(result.get_counts())"
   ]
  },
  {
   "cell_type": "code",
   "execution_count": null,
   "metadata": {},
   "outputs": [],
   "source": []
  },
  {
   "cell_type": "code",
   "execution_count": null,
   "metadata": {},
   "outputs": [],
   "source": []
  }
 ],
 "metadata": {
  "kernelspec": {
   "display_name": "Python 3.10.8 64-bit",
   "language": "python",
   "name": "python3"
  },
  "language_info": {
   "codemirror_mode": {
    "name": "ipython",
    "version": 3
   },
   "file_extension": ".py",
   "mimetype": "text/x-python",
   "name": "python",
   "nbconvert_exporter": "python",
   "pygments_lexer": "ipython3",
   "version": "3.10.8"
  },
  "vscode": {
   "interpreter": {
    "hash": "e7370f93d1d0cde622a1f8e1c04877d8463912d04d973331ad4851f04de6915a"
   }
  }
 },
 "nbformat": 4,
 "nbformat_minor": 4
}
