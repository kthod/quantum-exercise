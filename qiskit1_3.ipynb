{
 "cells": [
  {
   "cell_type": "markdown",
   "metadata": {
    "tags": [
     "remove_cell"
    ]
   },
   "source": [
    "# Representing Qubit States"
   ]
  },
  {
   "cell_type": "markdown",
   "metadata": {},
   "source": [
    "You now know something about bits, and about how our familiar digital computers work. All the complex variables, objects and data structures used in modern software are basically all just big piles of bits. Those of us who work on quantum computing call these *classical variables.* The computers that use them, like the one you are using to read this article, we call *classical computers*.\n",
    "\n",
    "In quantum computers, our basic variable is the _qubit:_ a quantum variant of the bit. These have exactly the same restrictions as normal bits do: they can store only a single binary piece of information, and can only ever give us an output of `0` or `1`. However, they can also be manipulated in ways that can only be described by quantum mechanics. This gives us new gates to play with, allowing us to find new ways to design algorithms.\n",
    "\n",
    "To fully understand these new gates, we first need to understand how to write down qubit states. For this we will use the mathematics of vectors, matrices, and complex numbers. Though we will introduce these concepts as we go, it would be best if you are comfortable with them already. If you need a more in-depth explanation or a refresher, you can find the guide [here](https://qiskit.org/textbook/ch-appendix/linear_algebra.html).\n",
    "\n",
    "\n",
    "\n",
    "\n",
    "## Contents\n",
    "\n",
    "1. [Classical vs Quantum Bits](#cvsq)    \n",
    "    1.1 [Statevectors](#statevectors)      \n",
    "    1.2 [Qubit Notation](#notation)    \n",
    "    1.3 [Exploring Qubits with Qiskit](#exploring-qubits)    \n",
    "2. [The Rules of Measurement](#rules-measurement)    \n",
    "    2.1 [A Very Important Rule](#important-rule)    \n",
    "    2.2 [The Implications of this Rule](#implications)\n",
    "3. [The Bloch Sphere](#bloch-sphere)    \n",
    "    3.1 [Describing the Restricted Qubit State](#bloch-sphere-1)     \n",
    "    3.2 [Visually Representing a Qubit State](#bloch-sphere-2)     \n"
   ]
  },
  {
   "cell_type": "markdown",
   "metadata": {},
   "source": [
    "## 1. Classical vs Quantum Bits <a id=\"cvsq\"></a>\n",
    "\n",
    "### 1.1 Statevectors<a id=\"statevectors\"></a>\n",
    "\n",
    "In quantum physics we use _statevectors_ to describe the state of our system. Say we wanted to describe the position of a car along a track, this is a classical system so we could use a number $x$:\n",
    "\n",
    "![tracking a car with scalars](images/car_track_1.jpg)\n",
    "\n",
    "$$ x=4 $$\n",
    "\n",
    "Alternatively, we could instead use a collection of numbers in a vector called a  _statevector._ Each element in the statevector contains the probability of finding the car in a certain place:\n",
    "\n",
    "![tracking a car with vectors](images/car_track_2.jpg)\n",
    "\n",
    "$$\n",
    "|x\\rangle = \\begin{bmatrix} 0\\\\ \\vdots \\\\ 0 \\\\ 1 \\\\ 0 \\\\ \\vdots \\\\ 0 \\end{bmatrix} \n",
    "            \\begin{matrix} \\\\  \\\\  \\\\ \\leftarrow \\\\  \\\\  \\\\  \\\\ \\end{matrix}\n",
    "             \\begin{matrix} \\\\  \\\\ \\text{Probability of} \\\\ \\text{car being at} \\\\ \\text{position 4} \\\\  \\\\  \\\\ \\end{matrix}   \n",
    "$$\n",
    "\n",
    "This isn’t limited to position, we could also keep a statevector of all the possible speeds the car could have, and all the possible colours the car could be. With classical systems (like the car example above), this is a silly thing to do as it requires keeping huge vectors when we only really need one number. But as we will see in this chapter, statevectors happen to be a very good way of keeping track of quantum systems, including quantum computers.\n",
    "\n",
    "\n",
    "### 1.2 Qubit Notation <a id=\"notation\"></a>\n",
    "\n",
    "Classical bits always have a completely well-defined state: they are either `0` or `1` at every point during a computation. There is no more detail we can add to the state of a bit than this. So to write down the state of a of classical bit (`c`), we can just use these two binary values. For example:\n",
    "\n",
    "    c = 0\n",
    "\n",
    "This restriction is lifted for quantum bits. Whether we get a `0` or a `1` from a qubit only needs to be well-defined when a measurement is made to extract an output. At that point, it must commit to one of these two options. At all other times, its state will be something more complex than can be captured by a simple binary value.\n",
    "\n",
    "To see how to describe these, we can first focus on the two simplest cases. As we saw in the last section, it is possible to prepare a qubit in a state for which it definitely gives the outcome `0` when measured.\n",
    "\n",
    "We need a name for this state. Let's be unimaginative and call it $0$ . Similarly, there exists a qubit state that is certain to output a `1`. We'll call this $1$. These two states are completely mutually exclusive. Either the qubit definitely outputs a ```0```, or it definitely outputs a ```1```. There is no overlap. One way to represent this with mathematics is to use two orthogonal vectors.\n",
    "\n",
    "$$\n",
    "|0\\rangle = \\begin{bmatrix} 1 \\\\ 0 \\end{bmatrix} \\, \\, \\, \\, |1\\rangle =\\begin{bmatrix} 0 \\\\ 1 \\end{bmatrix}.\n",
    "$$\n",
    "\n",
    "This is a lot of notation to take in all at once. First, let's unpack the weird $|$ and $\\rangle$. Their job is essentially just to remind us that we are talking about the vectors that represent qubit states labelled $0$ and $1$. This helps us distinguish them from things like the bit values ```0``` and ```1``` or the numbers 0 and 1. It is part of the bra-ket notation, introduced by Dirac.\n",
    "\n",
    "If you are not familiar with vectors, you can essentially just think of them as lists of numbers which we manipulate using certain rules. If you are familiar with vectors from your high school physics classes, you'll know that these rules make vectors well-suited for describing quantities with a magnitude and a direction. For example, the velocity of an object is described perfectly with a vector. However, the way we use vectors for quantum states is slightly different to this, so don't hold on too hard to your previous intuition. It's time to do something new!\n",
    "\n",
    "With vectors we can describe more complex states than just $|0\\rangle$ and $|1\\rangle$. For example, consider the vector\n",
    "\n",
    "$$\n",
    "|q_0\\rangle = \\begin{bmatrix} \\tfrac{1}{\\sqrt{2}} \\\\ \\tfrac{i}{\\sqrt{2}} \\end{bmatrix} .\n",
    "$$\n",
    "\n",
    "To understand what this state means, we'll need to use the mathematical rules for manipulating vectors. Specifically, we'll need to understand how to add vectors together and how to multiply them by scalars.\n",
    "\n",
    "<p>\n",
    " <details>\n",
    "  <summary>Reminder: Matrix Addition and Multiplication by Scalars (Click here to expand)</summary>\n",
    "  <p>To add two vectors, we add their elements together:\n",
    "    $$|a\\rangle = \\begin{bmatrix}a_0 \\\\ a_1 \\\\ \\vdots \\\\ a_n \\end{bmatrix}, \\quad\n",
    "    |b\\rangle = \\begin{bmatrix}b_0 \\\\ b_1 \\\\ \\vdots \\\\ b_n \\end{bmatrix}$$\n",
    "    $$|a\\rangle + |b\\rangle = \\begin{bmatrix}a_0 + b_0 \\\\ a_1 + b_1 \\\\ \\vdots \\\\ a_n + b_n \\end{bmatrix} $$\n",
    "    </p>\n",
    "  <p>And to multiply a vector by a scalar, we multiply each element by the scalar:\n",
    "    $$x|a\\rangle = \\begin{bmatrix}x \\times a_0 \\\\ x \\times  a_1 \\\\ \\vdots \\\\ x \\times  a_n \\end{bmatrix}$$\n",
    "    </p>\n",
    "  <p>These two rules are used to rewrite the vector $|q_0\\rangle$ (as shown above):\n",
    "      $$\n",
    "      \\begin{aligned} \n",
    "      |q_0\\rangle & = \\tfrac{1}{\\sqrt{2}}|0\\rangle + \\tfrac{i}{\\sqrt{2}}|1\\rangle \\\\\n",
    "                  & = \\tfrac{1}{\\sqrt{2}}\\begin{bmatrix}1\\\\0\\end{bmatrix} + \\tfrac{i}{\\sqrt{2}}\\begin{bmatrix}0\\\\1\\end{bmatrix}\\\\\n",
    "                  & = \\begin{bmatrix}\\tfrac{1}{\\sqrt{2}}\\\\0\\end{bmatrix} + \\begin{bmatrix}0\\\\\\tfrac{i}{\\sqrt{2}}\\end{bmatrix}\\\\\n",
    "                  & = \\begin{bmatrix}\\tfrac{1}{\\sqrt{2}} \\\\ \\tfrac{i}{\\sqrt{2}} \\end{bmatrix}\\\\\n",
    "      \\end{aligned}\n",
    "      $$\n",
    " </details>\n",
    "</p>\n",
    "<p>\n",
    " <details>\n",
    "  <summary>Reminder: Orthonormal Bases (Click here to expand)</summary>\n",
    "  <p>\n",
    "      It was stated before that the two vectors $|0\\rangle$ and $|1\\rangle$ are orthonormal, this means they are both <i>orthogonal</i> and <i>normalised</i>. Orthogonal means the vectors are at right angles:\n",
    "  </p><p><img src=\"images/basis.svg\"></p>\n",
    "  <p>And normalised means their magnitudes (length of the arrow) is equal to 1. The two vectors $|0\\rangle$ and $|1\\rangle$ are <i>linearly independent</i>, which means we cannot describe $|0\\rangle$ in terms of $|1\\rangle$, and vice versa. However, using both the vectors $|0\\rangle$ and $|1\\rangle$, and our rules of addition and multiplication by scalars, we can describe all possible vectors in 2D space:\n",
    "    </p><p><img src=\"images/basis2.svg\"></p>\n",
    "  <p>Because the vectors $|0\\rangle$ and $|1\\rangle$ are linearly independent, and can be used to describe any vector in 2D space using vector addition and scalar multiplication, we say the vectors $|0\\rangle$ and $|1\\rangle$ form a <i>basis</i>. In this case, since they are both orthogonal and normalised, we call it an <i>orthonormal basis</i>.\n",
    " </details>\n",
    "</p>\n",
    "\n",
    "Since the states $|0\\rangle$ and $|1\\rangle$ form an orthonormal basis, we can represent any 2D vector with a combination of these two states. This allows us to write the state of our qubit in the alternative form:\n",
    "\n",
    "$$ |q_0\\rangle = \\tfrac{1}{\\sqrt{2}}|0\\rangle + \\tfrac{i}{\\sqrt{2}}|1\\rangle $$\n",
    "\n",
    "This vector, $|q_0\\rangle$ is called the qubit's _statevector,_ it tells us everything we could possibly know about this qubit. For now, we are only able to draw a few simple conclusions about this particular example of a statevector: it is not entirely $|0\\rangle$ and not entirely $|1\\rangle$. Instead, it is described by a linear combination of the two. In quantum mechanics, we typically describe linear combinations such as this using the word 'superposition'.\n",
    "\n",
    "Though our example state $|q_0\\rangle$ can be expressed as a superposition of $|0\\rangle$ and $|1\\rangle$, it is no less a definite and well-defined qubit state than they are. To see this, we can begin to explore how a qubit can be manipulated.\n",
    "\n",
    "### 1.3 Exploring Qubits with Qiskit <a id=\"exploring-qubits\"></a>\n",
    "\n",
    "First, we need to import all the tools we will need:"
   ]
  },
  {
   "cell_type": "code",
   "execution_count": 1,
   "metadata": {
    "tags": [
     "thebelab-init"
    ]
   },
   "outputs": [],
   "source": [
    "from qiskit import QuantumCircuit, assemble, Aer\n",
    "from qiskit.visualization import plot_histogram, plot_bloch_vector\n",
    "from math import sqrt, pi"
   ]
  },
  {
   "cell_type": "markdown",
   "metadata": {},
   "source": [
    "In Qiskit, we use the `QuantumCircuit` object to store our circuits, this is essentially a list of the quantum operations on our circuit and the qubits they are applied to."
   ]
  },
  {
   "cell_type": "code",
   "execution_count": 2,
   "metadata": {},
   "outputs": [],
   "source": [
    "qc = QuantumCircuit(1) # Create a quantum circuit with one qubit"
   ]
  },
  {
   "cell_type": "markdown",
   "metadata": {},
   "source": [
    "In our quantum circuits, our qubits always start out in the state $|0\\rangle$. We can use the `initialize()` method to transform this into any state. We give `initialize()` the vector we want in the form of a list, and tell it which qubit(s) we want to initialize in this state:"
   ]
  },
  {
   "cell_type": "code",
   "execution_count": 3,
   "metadata": {},
   "outputs": [
    {
     "data": {
      "image/png": "[encoded data removed]",
      "text/plain": [
       "<Figure size 185.453x117.056 with 1 Axes>"
      ]
     },
     "execution_count": 3,
     "metadata": {},
     "output_type": "execute_result"
    }
   ],
   "source": [
    "qc = QuantumCircuit(1)  # Create a quantum circuit with one qubit\n",
    "initial_state = [0,1]   # Define initial_state as |1>\n",
    "qc.initialize(initial_state, 0) # Apply initialisation operation to the 0th qubit\n",
    "qc.draw(output = 'mpl')  # Let's view our circuit"
   ]
  },
  {
   "cell_type": "markdown",
   "metadata": {},
   "source": [
    "We can then use one of Qiskit’s simulators to view the resulting state of our qubit."
   ]
  },
  {
   "cell_type": "code",
   "execution_count": 4,
   "metadata": {
    "tags": [
     "thebelab-init"
    ]
   },
   "outputs": [],
   "source": [
    "sim = Aer.get_backend('aer_simulator')  # Tell Qiskit how to simulate our circuit"
   ]
  },
  {
   "cell_type": "markdown",
   "metadata": {},
   "source": [
    "To get the results from our circuit, we use `run` to execute our circuit, giving the circuit and the backend as arguments. We then use `.result()` to get the result of this:"
   ]
  },
  {
   "cell_type": "code",
   "execution_count": 5,
   "metadata": {},
   "outputs": [],
   "source": [
    "qc = QuantumCircuit(1)  # Create a quantum circuit with one qubit\n",
    "initial_state = [0,1]   # Define initial_state as |1>\n",
    "qc.initialize(initial_state, 0) # Apply initialisation operation to the 0th qubit\n",
    "qc.save_statevector()   # Tell simulator to save statevector\n",
    "qobj = assemble(qc)     # Create a Qobj from the circuit for the simulator to run\n",
    "result = sim.run(qobj).result() # Do the simulation and return the result"
   ]
  },
  {
   "cell_type": "markdown",
   "metadata": {},
   "source": [
    "from `result`, we can then get the final statevector using `.get_statevector()`:"
   ]
  },
  {
   "cell_type": "code",
   "execution_count": 6,
   "metadata": {},
   "outputs": [
    {
     "name": "stdout",
     "output_type": "stream",
     "text": [
      "Statevector([0.+0.j, 1.+0.j],\n",
      "            dims=(2,))\n"
     ]
    }
   ],
   "source": [
    "out_state = result.get_statevector()\n",
    "print(out_state) # Display the output state vector"
   ]
  },
  {
   "cell_type": "markdown",
   "metadata": {},
   "source": [
    "**Note:** Python uses `j` to represent $i$ in complex numbers. We see a vector with two complex elements: `0.+0.j` = 0, and `1.+0.j` = 1.\n",
    "\n",
    "Let’s now measure our qubit as we would in a real quantum computer and see the result:"
   ]
  },
  {
   "cell_type": "code",
   "execution_count": 8,
   "metadata": {},
   "outputs": [
    {
     "data": {
      "image/png": "[encoded data removed]",
      "text/plain": [
       "<Figure size 765.638x284.278 with 1 Axes>"
      ]
     },
     "execution_count": 8,
     "metadata": {},
     "output_type": "execute_result"
    }
   ],
   "source": [
    "qc.measure_all()\n",
    "qc.draw(output=\"mpl\")"
   ]
  },
  {
   "cell_type": "markdown",
   "metadata": {},
   "source": [
    "This time, instead of the statevector we will get the counts for the `0` and `1` results using `.get_counts()`:"
   ]
  },
  {
   "cell_type": "code",
   "execution_count": 9,
   "metadata": {},
   "outputs": [
    {
     "data": {
      "image/png": "[encoded data removed]",
      "text/plain": [
       "<Figure size 700x500 with 1 Axes>"
      ]
     },
     "execution_count": 9,
     "metadata": {},
     "output_type": "execute_result"
    }
   ],
   "source": [
    "qobj = assemble(qc)\n",
    "result = sim.run(qobj).result()\n",
    "counts = result.get_counts()\n",
    "plot_histogram(counts)"
   ]
  },
  {
   "cell_type": "markdown",
   "metadata": {},
   "source": [
    "We can see that we (unsurprisingly) have a 100% chance of measuring $|1\\rangle$. This time, let’s instead put our qubit into a superposition and see what happens. We will use the state $|q_0\\rangle$ from earlier in this section:\n",
    "\n",
    "$$ |q_0\\rangle = \\tfrac{1}{\\sqrt{2}}|0\\rangle + \\tfrac{i}{\\sqrt{2}}|1\\rangle $$\n",
    "\n",
    "We need to add these amplitudes to a python list. To add a complex amplitude, Python uses `j` for the imaginary unit (we normally call it \"$i$\" mathematically):"
   ]
  },
  {
   "cell_type": "code",
   "execution_count": 10,
   "metadata": {},
   "outputs": [],
   "source": [
    "initial_state = [1/sqrt(2), 1j/sqrt(2)]  # Define state |q_0>"
   ]
  },
  {
   "cell_type": "markdown",
   "metadata": {},
   "source": [
    "And we then repeat the steps for initialising the qubit as before:"
   ]
  },
  {
   "cell_type": "code",
   "execution_count": 11,
   "metadata": {},
   "outputs": [
    {
     "name": "stdout",
     "output_type": "stream",
     "text": [
      "Statevector([0.70710678+0.j        , 0.        +0.70710678j],\n",
      "            dims=(2,))\n"
     ]
    }
   ],
   "source": [
    "qc = QuantumCircuit(1) # Must redefine qc\n",
    "qc.initialize(initial_state, 0) # Initialize the 0th qubit in the state `initial_state`\n",
    "qc.save_statevector() # Save statevector\n",
    "qobj = assemble(qc)\n",
    "state = sim.run(qobj).result().get_statevector() # Execute the circuit\n",
    "print(state)           # Print the result"
   ]
  },
  {
   "cell_type": "code",
   "execution_count": 12,
   "metadata": {},
   "outputs": [
    {
     "data": {
      "image/png": "[encoded data removed]",
      "text/plain": [
       "<Figure size 504x360 with 1 Axes>"
      ]
     },
     "execution_count": 12,
     "metadata": {},
     "output_type": "execute_result"
    }
   ],
   "source": [
    "qobj = assemble(qc)\n",
    "results = sim.run(qobj).result().get_counts()\n",
    "plot_histogram(results)"
   ]
  },
  {
   "cell_type": "markdown",
   "metadata": {},
   "source": [
    "We can see we have equal probability of measuring either $|0\\rangle$ or $|1\\rangle$. To explain this, we need to talk about measurement.\n",
    "\n",
    "## 2. The Rules of Measurement <a id=\"rules-measurement\"></a>\n",
    "### 2.1 A Very Important Rule <a id=\"important-rule\"></a>\n",
    "\n",
    "There is a simple rule for measurement. To find the probability of measuring a state $|\\psi \\rangle$ in the state $|x\\rangle$ we do:\n",
    "\n",
    "$$p(|x\\rangle) = | \\langle x| \\psi \\rangle|^2$$\n",
    "\n",
    "The symbols $\\langle$ and $|$ tell us $\\langle x |$ is a row vector and the symbols $|$ and $\\rangle$ tell us $|\\psi\\rangle$ is a column vector. In quantum mechanics we call the column vectors _kets_ and the row vectors _bras._ Together they make up _bra-ket_ notation. Any ket $|a\\rangle$ has a corresponding bra $\\langle a|$, and we convert between them using the conjugate transpose.\n",
    "<details>\n",
    "    <summary>Reminder: Conjugate Transpose (Click here to expand)</summary>\n",
    "    <p>Conversion between bra-ket takes places using the <i>conjugate transpose</i> method. We know a ket (column vector) is represented as follows:\n",
    "        $$\\quad|a\\rangle = \\begin{bmatrix}a_0 \\\\ a_1 \\\\ \\vdots \\\\ a_n \\end{bmatrix}$$\n",
    "    </p>\n",
    "    <p>\n",
    "In conjugate transpose method, the matrix is transposed and the elements are complex conjugated (represented by the \"$*$\" operation) where complex conjugate (\"$*$\") of a complex number is a number with an equal real part and an imaginary part equal in magnitude but opposite in sign. This gives the coressponding bra (row vector) as follows:\n",
    "        $$\\langle a| = \\begin{bmatrix}a_0^*, & a_1^*, & \\dots & a_n^* \\end{bmatrix}$$\n",
    "    </p>\n",
    "</details>   \n",
    "\n",
    "<details>\n",
    "  <summary>Reminder: The Inner Product (Click here to expand)</summary>\n",
    "    <p>There are different ways to multiply vectors, here we use the <i>inner product</i>. The inner product is a generalisation of the <i>dot product</i> which you may already be familiar with. In this guide, we use the inner product between a bra (row vector) and a ket (column vector), and it follows this rule:\n",
    "        \n",
    "$$\\langle a| = \\begin{bmatrix}a_0^*, & a_1^*, & \\dots & a_n^* \\end{bmatrix}, \\quad\n",
    "    |b\\rangle = \\begin{bmatrix}b_0 \\\\ b_1 \\\\ \\vdots \\\\ b_n \\end{bmatrix}$$\n",
    "    $$\\langle a|b\\rangle = a_0^* b_0 + a_1^* b_1 \\dots a_n^* b_n$$\n",
    "    </p>\n",
    "  <p>We can see that the inner product of two vectors always gives us a scalar. A useful thing to remember is that the inner product of two orthogonal vectors is 0, for example if we have the orthogonal vectors $|0\\rangle$ and $|1\\rangle$:\n",
    "    $$\\langle1|0\\rangle = \\begin{bmatrix} 0 & 1\\end{bmatrix}\\begin{bmatrix}1 \\\\ 0\\end{bmatrix} = 0$$\n",
    "    </p>\n",
    "  <p>Additionally, remember that the vectors $|0\\rangle$ and $|1\\rangle$ are also normalised (magnitudes are equal to 1):\n",
    "    \n",
    "$$\n",
    "      \\begin{aligned} \n",
    "      \\langle0|0\\rangle & = \\begin{bmatrix} 1 & 0\\end{bmatrix}\\begin{bmatrix}1 \\\\ 0\\end{bmatrix} = 1 \\\\\n",
    "      \\langle1|1\\rangle & = \\begin{bmatrix} 0 & 1\\end{bmatrix}\\begin{bmatrix}0 \\\\ 1\\end{bmatrix} = 1\n",
    "      \\end{aligned}\n",
    "$$\n",
    "   </p>\n",
    "</details>\n",
    "\n",
    "         \n",
    "In the equation above, $|x\\rangle$ can be any qubit state. To find the probability of measuring $|x\\rangle$, we take the inner product of $|x\\rangle$ and the state we are measuring (in this case $|\\psi\\rangle$), then square the magnitude. This may seem a little convoluted, but it will soon become second nature.\n",
    "\n",
    "If we look at the state $|q_0\\rangle$ from before, we can see the probability of measuring $|0\\rangle$ is indeed $0.5$:\n",
    "\n",
    "$$\n",
    "\\begin{aligned}\n",
    "|q_0\\rangle & = \\tfrac{1}{\\sqrt{2}}|0\\rangle + \\tfrac{i}{\\sqrt{2}}|1\\rangle \\\\\n",
    "\\langle 0| q_0 \\rangle  & = \\tfrac{1}{\\sqrt{2}}\\langle 0|0\\rangle + \\tfrac{i}{\\sqrt{2}}\\langle 0|1\\rangle \\\\\n",
    "& = \\tfrac{1}{\\sqrt{2}}\\cdot 1 +  \\tfrac{i}{\\sqrt{2}} \\cdot 0\\\\\n",
    "& = \\tfrac{1}{\\sqrt{2}}\\\\\n",
    "|\\langle 0| q_0 \\rangle|^2 & = \\tfrac{1}{2}\n",
    "\\end{aligned}\n",
    "$$\n",
    "\n",
    "You should verify the probability of measuring $|1\\rangle$ as an exercise.\n",
    "\n",
    "This rule governs how we get information out of quantum states. It is therefore very important for everything we do in quantum computation. It also immediately implies several important facts.\n",
    "\n",
    "### 2.2 The Implications of this Rule <a id=\"implications\"></a>\n",
    "### #1 Normalisation\n",
    "\n",
    "The rule shows us that amplitudes are related to probabilities. If we want the probabilities to add up to 1 (which they should!), we need to ensure that the statevector is properly normalized. Specifically, we need the magnitude of the state vector to be 1.\n",
    "\n",
    "$$ \\langle\\psi|\\psi\\rangle = 1 \\\\ $$\n",
    "\n",
    "Thus if:\n",
    "\n",
    "$$ |\\psi\\rangle = \\alpha|0\\rangle + \\beta|1\\rangle $$\n",
    "\n",
    "Then:\n",
    "\n",
    "$$ |\\alpha|^2 + |\\beta|^2 = 1 $$\n",
    "\n",
    "This explains the factors of $\\sqrt{2}$ you have seen throughout this chapter. In fact, if we try to give `initialize()` a vector that isn’t normalised, it will give us an error:"
   ]
  },
  {
   "cell_type": "code",
   "execution_count": 13,
   "metadata": {
    "tags": [
     "raises-exception"
    ]
   },
   "outputs": [
    {
     "data": {
      "text/plain": [
       "<qiskit.circuit.instructionset.InstructionSet at 0x7f97b868c040>"
      ]
     },
     "execution_count": 13,
     "metadata": {},
     "output_type": "execute_result"
    }
   ],
   "source": [
    "vector = [1/sqrt(2),1/sqrt(2)]\n",
    "qc.initialize(vector, 0)"
   ]
  },
  {
   "cell_type": "markdown",
   "metadata": {},
   "source": [
    "#### Quick Exercise\n",
    "1. Create a state vector that will give a $1/3$ probability of measuring $|0\\rangle$.\n",
    "2. Create a different state vector that will give the same measurement probabilities.\n",
    "3. Verify that the probability of measuring $|1\\rangle$ for these two states is $2/3$."
   ]
  },
  {
   "cell_type": "markdown",
   "metadata": {},
   "source": [
    "You can check your answer in the widget below (accepts answers ±1% accuracy, you can use numpy terms such as '`pi`' and '`sqrt()`' in the vector):"
   ]
  },
  {
   "cell_type": "code",
   "execution_count": 14,
   "metadata": {
    "scrolled": false
   },
   "outputs": [
    {
     "data": {
      "application/vnd.jupyter.widget-view+json": {
       "model_id": "37f11c1366ee4ade807fe970dfc09b63",
       "version_major": 2,
       "version_minor": 0
      },
      "text/plain": [
       "VBox(children=(Label(value='State Vector:'), HBox(children=(Text(value='[1, 0]', placeholder='Type something')…"
      ]
     },
     "metadata": {},
     "output_type": "display_data"
    },
    {
     "data": {
      "application/vnd.jupyter.widget-view+json": {
       "model_id": "15841aa244484fb5b7800872b11c9a0f",
       "version_major": 2,
       "version_minor": 0
      },
      "text/plain": [
       "HTML(value='<pre></pre>')"
      ]
     },
     "metadata": {},
     "output_type": "display_data"
    }
   ],
   "source": [
    "# Run the code in this cell to interact with the widget\n",
    "from qiskit_textbook.widgets import state_vector_exercise\n",
    "state_vector_exercise(target=1/3)"
   ]
  },
  {
   "cell_type": "markdown",
   "metadata": {},
   "source": [
    "### #2 Alternative measurement\n",
    "\n",
    "The measurement rule gives us the probability $p(|x\\rangle)$ that a state $|\\psi\\rangle$ is measured as $|x\\rangle$. Nowhere does it tell us that $|x\\rangle$ can only be either $|0\\rangle$ or $|1\\rangle$.\n",
    "\n",
    "The measurements we have considered so far are in fact only one of an infinite number of possible ways to measure a qubit. For any orthogonal pair of states, we can define a measurement that would cause a qubit to choose between the two.\n",
    "\n",
    "This possibility will be explored more in the next section. For now, just bear in mind that $|x\\rangle$ is not limited to being simply $|0\\rangle$ or $|1\\rangle$."
   ]
  },
  {
   "cell_type": "markdown",
   "metadata": {},
   "source": [
    "### #3 Global Phase\n",
    "\n",
    "We know that measuring the state $|1\\rangle$ will give us the output `1` with certainty. But we are also able to write down states such as \n",
    "\n",
    "$$\\begin{bmatrix}0 \\\\ i\\end{bmatrix} = i|1\\rangle.$$\n",
    "\n",
    "To see how this behaves, we apply the measurement rule.\n",
    "\n",
    "$$ |\\langle x| (i|1\\rangle) |^2 = | i \\langle x|1\\rangle|^2 = |\\langle x|1\\rangle|^2 $$\n",
    "\n",
    "Here we find that the factor of $i$ disappears once we take the magnitude of the complex number. This effect is completely independent of the measured state $|x\\rangle$. It does not matter what measurement we are considering, the probabilities for the state $i|1\\rangle$ are identical to those for $|1\\rangle$. Since measurements are the only way we can extract any information from a qubit, this implies that these two states are equivalent in all ways that are physically relevant.\n",
    "\n",
    "More generally, we refer to any overall factor $\\gamma$ on a state for which $|\\gamma|=1$ as a 'global phase'. States that differ only by a global phase are physically indistinguishable.\n",
    "\n",
    "$$ |\\langle x| ( \\gamma |a\\rangle) |^2 = | \\gamma \\langle x|a\\rangle|^2 = |\\langle x|a\\rangle|^2 $$\n",
    "\n",
    "Note that this is distinct from the phase difference _between_ terms in a superposition, which is known as the 'relative phase'. This becomes relevant once we consider different types of measurement and multiple qubits.\n",
    "\n",
    "\n",
    "### #4 The Observer Effect\n",
    "\n",
    "We know that the amplitudes contain information about the probability of us finding the qubit in a specific state, but once we have measured the qubit, we know with certainty what the state of the qubit is. For example, if we measure a qubit in the state:\n",
    "\n",
    "$$ |q\\rangle = \\alpha|0\\rangle + \\beta|1\\rangle$$\n",
    "\n",
    "And find it in the state $|0\\rangle$, if we measure again, there is a 100% chance of finding the qubit in the state $|0\\rangle$. This means the act of measuring _changes_ the state of our qubits.\n",
    "\n",
    "$$ |q\\rangle = \\begin{bmatrix} \\alpha \\\\ \\beta \\end{bmatrix} \\xrightarrow{\\text{Measure }|0\\rangle} |q\\rangle = |0\\rangle = \\begin{bmatrix} 1 \\\\ 0 \\end{bmatrix}$$\n",
    "\n",
    "We sometimes refer to this as _collapsing_ the state of the qubit. It is a potent effect, and so one that must be used wisely. For example, were we to constantly measure each of our qubits to keep track of their value at each point in a computation, they would always simply be in a well-defined state of either $|0\\rangle$ or $|1\\rangle$. As such, they would be no different from classical bits and our computation could be easily replaced by a classical computation. To achieve truly quantum computation we must allow the qubits to explore more complex states. Measurements are therefore only used when we need to extract an output. This means that we often place all the measurements at the end of our quantum circuit. \n",
    "\n",
    "We can demonstrate this using Qiskit’s statevector simulator. Let's initialize a qubit in superposition:"
   ]
  },
  {
   "cell_type": "code",
   "execution_count": 15,
   "metadata": {},
   "outputs": [
    {
     "data": {
      "text/html": [
       "<pre style=\"word-wrap: normal;white-space: pre;background: #fff0;line-height: 1.1;font-family: &quot;Courier New&quot;,Courier,monospace\">   ┌──────────────────────────────┐\n",
       "q: ┤ Initialize(0.70711j,0.70711) ├\n",
       "   └──────────────────────────────┘</pre>"
      ],
      "text/plain": [
       "   ┌──────────────────────────────┐\n",
       "q: ┤ Initialize(0.70711j,0.70711) ├\n",
       "   └──────────────────────────────┘"
      ]
     },
     "execution_count": 15,
     "metadata": {},
     "output_type": "execute_result"
    }
   ],
   "source": [
    "qc = QuantumCircuit(1) # We are redefining qc\n",
    "initial_state = [0.+1.j/sqrt(2),1/sqrt(2)+0.j]\n",
    "qc.initialize(initial_state, 0)\n",
    "qc.draw()"
   ]
  },
  {
   "cell_type": "markdown",
   "metadata": {},
   "source": [
    "This should initialize our qubit in the state:\n",
    "\n",
    "$$ |q\\rangle = \\tfrac{i}{\\sqrt{2}}|0\\rangle + \\tfrac{1}{\\sqrt{2}}|1\\rangle $$\n",
    "\n",
    "We can verify this using the simulator:"
   ]
  },
  {
   "cell_type": "code",
   "execution_count": 16,
   "metadata": {},
   "outputs": [
    {
     "name": "stdout",
     "output_type": "stream",
     "text": [
      "Qubit State = Statevector([0.        +0.70710678j, 0.70710678+0.j        ],\n",
      "            dims=(2,))\n"
     ]
    }
   ],
   "source": [
    "qc.save_statevector()\n",
    "result = sim.run(assemble(qc)).result()\n",
    "state = result.get_statevector()\n",
    "print(\"Qubit State = \" + str(state))"
   ]
  },
  {
   "cell_type": "markdown",
   "metadata": {},
   "source": [
    "We can see here the qubit is initialized in the state `[0.+0.70710678j 0.70710678+0.j]`, which is the state we expected.\n",
    "\n",
    "Let’s now create a circuit where we measure this qubit:"
   ]
  },
  {
   "cell_type": "code",
   "execution_count": 17,
   "metadata": {},
   "outputs": [
    {
     "data": {
      "text/html": [
       "<pre style=\"word-wrap: normal;white-space: pre;background: #fff0;line-height: 1.1;font-family: &quot;Courier New&quot;,Courier,monospace\">      ┌──────────────────────────────┐ ░ ┌─┐ statevector \n",
       "   q: ┤ Initialize(0.70711j,0.70711) ├─░─┤M├──────░──────\n",
       "      └──────────────────────────────┘ ░ └╥┘      ░      \n",
       "meas: ════════════════════════════════════╩══════════════\n",
       "                                                         </pre>"
      ],
      "text/plain": [
       "      ┌──────────────────────────────┐ ░ ┌─┐ statevector \n",
       "   q: ┤ Initialize(0.70711j,0.70711) ├─░─┤M├──────░──────\n",
       "      └──────────────────────────────┘ ░ └╥┘      ░      \n",
       "meas: ════════════════════════════════════╩══════════════\n",
       "                                                         "
      ]
     },
     "execution_count": 17,
     "metadata": {},
     "output_type": "execute_result"
    }
   ],
   "source": [
    "qc = QuantumCircuit(1) # We are redefining qc\n",
    "initial_state = [0.+1.j/sqrt(2),1/sqrt(2)+0.j]\n",
    "qc.initialize(initial_state, 0)\n",
    "qc.measure_all()\n",
    "qc.save_statevector()\n",
    "qc.draw()"
   ]
  },
  {
   "cell_type": "markdown",
   "metadata": {},
   "source": [
    "When we simulate this entire circuit, we can see that one of the amplitudes is _always_ 0:"
   ]
  },
  {
   "cell_type": "code",
   "execution_count": 18,
   "metadata": {},
   "outputs": [
    {
     "name": "stdout",
     "output_type": "stream",
     "text": [
      "State of Measured Qubit = Statevector([0.+0.j, 1.+0.j],\n",
      "            dims=(2,))\n"
     ]
    }
   ],
   "source": [
    "qobj = assemble(qc)\n",
    "state = sim.run(qobj).result().get_statevector()\n",
    "print(\"State of Measured Qubit = \" + str(state))"
   ]
  },
  {
   "cell_type": "markdown",
   "metadata": {},
   "source": [
    "You can re-run this cell a few times to reinitialize the qubit and measure it again. You will notice that either outcome is equally probable, but that the state of the qubit is never a superposition of $|0\\rangle$ and $|1\\rangle$. Somewhat interestingly, the global phase on the state $|0\\rangle$ survives, but since this is global phase, we can never measure it on a real quantum computer.\n",
    "\n",
    "### A Note about Quantum Simulators\n",
    "\n",
    "We can see that writing down a qubit’s state requires keeping track of two complex numbers, but when using a real quantum computer we will only ever receive a yes-or-no (`0` or `1`) answer for each qubit. The output of a 10-qubit quantum computer will look like this:\n",
    "\n",
    "`0110111110`\n",
    "\n",
    "Just 10 bits, no superposition or complex amplitudes. When using a real quantum computer, we cannot see the states of our qubits mid-computation, as this would destroy them! This behaviour is not ideal for learning, so Qiskit provides different quantum simulators: By default, the `aer_simulator` mimics the execution of a real quantum computer, but will also allow you to peek at quantum states before measurement if we include certain instructions in our circuit. For example, here we have included the instruction `.save_statevector()`, which means we can use `.get_statevector()` on the result of the simulation. \n",
    "\n",
    "\n"
   ]
  },
  {
   "cell_type": "markdown",
   "metadata": {},
   "source": [
    "## 3. The Bloch Sphere <a id=\"bloch-sphere\"></a>\n",
    "### 3.1 Describing the Restricted Qubit State <a id=\"bloch-sphere-1\"></a>\n",
    "\n",
    "We saw earlier in this chapter that the general state of a qubit ($|q\\rangle$) is:\n",
    "\n",
    "$$\n",
    "|q\\rangle = \\alpha|0\\rangle + \\beta|1\\rangle\n",
    "$$\n",
    "\n",
    "$$\n",
    "\\alpha, \\beta \\in \\mathbb{C}\n",
    "$$\n",
    "\n",
    "(The second line tells us $\\alpha$ and $\\beta$ are complex numbers). The first two implications in section 2 tell us that we cannot differentiate between some of these states. This means we can be more specific in our description of the qubit. \n",
    "\n",
    "Firstly, since we cannot measure global phase, we can only measure the difference in phase between the states $|0\\rangle$ and $|1\\rangle$. Instead of having $\\alpha$ and $\\beta$ be complex, we can confine them to the real numbers and add a term to tell us the relative phase between them:\n",
    "\n",
    "$$\n",
    "|q\\rangle = \\alpha|0\\rangle + e^{i\\phi}\\beta|1\\rangle\n",
    "$$\n",
    "\n",
    "$$\n",
    "\\alpha, \\beta, \\phi \\in \\mathbb{R}\n",
    "$$\n",
    "\n",
    "Finally, since the qubit state must be normalised, i.e.\n",
    "\n",
    "$$\n",
    "\\sqrt{\\alpha^2 + \\beta^2} = 1\n",
    "$$\n",
    "\n",
    "we can use the trigonometric identity:\n",
    "\n",
    "$$\n",
    "\\sqrt{\\sin^2{x} + \\cos^2{x}} = 1\n",
    "$$\n",
    "\n",
    "to describe the real $\\alpha$ and $\\beta$ in terms of one variable, $\\theta$:\n",
    "\n",
    "$$\n",
    "\\alpha = \\cos{\\tfrac{\\theta}{2}}, \\quad \\beta=\\sin{\\tfrac{\\theta}{2}}\n",
    "$$\n",
    "\n",
    "From this we can describe the state of any qubit using the two variables $\\phi$ and $\\theta$:\n",
    "\n",
    "$$\n",
    "|q\\rangle = \\cos{\\tfrac{\\theta}{2}}|0\\rangle + e^{i\\phi}\\sin{\\tfrac{\\theta}{2}}|1\\rangle\n",
    "$$\n",
    "\n",
    "$$\n",
    "\\theta, \\phi \\in \\mathbb{R}\n",
    "$$\n",
    "\n",
    "### 3.2 Visually Representing a Qubit State <a id=\"bloch-sphere-2\"></a>\n",
    "\n",
    "We want to plot our general qubit state:\n",
    "\n",
    "$$\n",
    "|q\\rangle = \\cos{\\tfrac{\\theta}{2}}|0\\rangle + e^{i\\phi}\\sin{\\tfrac{\\theta}{2}}|1\\rangle\n",
    "$$\n",
    "\n",
    "If we interpret $\\theta$ and $\\phi$ as spherical co-ordinates ($r = 1$, since the magnitude of the qubit state is $1$), we can plot any single qubit state on the surface of a sphere, known as the _Bloch sphere._\n",
    "\n",
    "Below we have plotted a qubit in the state $|{+}\\rangle$. In this case, $\\theta = \\pi/2$ and $\\phi = 0$.\n",
    "\n",
    "(Qiskit has a function to plot a bloch sphere, `plot_bloch_vector()`, but at the time of writing it only takes cartesian coordinates. We have included a function that does the conversion automatically).\n",
    "\n",
    "\n",
    "You can also try [this interactive Bloch sphere demo](https://javafxpert.github.io/grok-bloch/).\n"
   ]
  },
  {
   "cell_type": "code",
   "execution_count": 43,
   "metadata": {},
   "outputs": [
    {
     "data": {
      "image/png": "[encoded data removed]",
      "text/plain": [
       "<Figure size 360x360 with 1 Axes>"
      ]
     },
     "execution_count": 43,
     "metadata": {},
     "output_type": "execute_result"
    }
   ],
   "source": [
    "from qiskit_textbook.widgets import plot_bloch_vector_spherical\n",
    "coords = [pi,0,1] # [Theta, Phi, Radius]\n",
    "plot_bloch_vector_spherical(coords) # Bloch Vector with spherical coordinates"
   ]
  },
  {
   "cell_type": "markdown",
   "metadata": {},
   "source": [
    "#### Warning!\n",
    "When first learning about qubit states, it's easy to confuse the qubits _statevector_ with its _Bloch vector_. Remember the statevector is the vector discussed in [1.1](#notation), that holds the amplitudes for the two states our qubit can be in. The Bloch vector is a visualisation tool that maps the 2D, complex statevector onto real, 3D space."
   ]
  },
  {
   "cell_type": "markdown",
   "metadata": {},
   "source": [
    "#### Quick Exercise\n",
    "Use `plot_bloch_vector()` or `plot_bloch_vector_spherical()` to plot a qubit in the states:\n",
    "1. $|0\\rangle$\n",
    "2. $|1\\rangle$\n",
    "3. $\\tfrac{1}{\\sqrt{2}}(|0\\rangle + |1\\rangle)$\n",
    "4. $\\tfrac{1}{\\sqrt{2}}(|0\\rangle - i|1\\rangle)$\n",
    "5. $\\tfrac{1}{\\sqrt{2}}\\begin{bmatrix}i\\\\1\\end{bmatrix}$"
   ]
  },
  {
   "cell_type": "code",
   "execution_count": 77,
   "metadata": {},
   "outputs": [
    {
     "data": {
      "image/png": "[encoded data removed]",
      "text/plain": [
       "<Figure size 360x360 with 1 Axes>"
      ]
     },
     "execution_count": 77,
     "metadata": {},
     "output_type": "execute_result"
    }
   ],
   "source": [
    "plot_bloch_vector_spherical([pi/2,3*(pi/2),1])"
   ]
  },
  {
   "cell_type": "code",
   "execution_count": null,
   "metadata": {},
   "outputs": [],
   "source": []
  },
  {
   "cell_type": "code",
   "execution_count": null,
   "metadata": {},
   "outputs": [],
   "source": []
  },
  {
   "cell_type": "markdown",
   "metadata": {},
   "source": [
    "We have also included below a widget that converts from spherical co-ordinates to cartesian, for use with `plot_bloch_vector()`:"
   ]
  },
  {
   "cell_type": "code",
   "execution_count": 10,
   "metadata": {},
   "outputs": [
    {
     "ename": "ModuleNotFoundError",
     "evalue": "No module named 'qiskit_textbook'",
     "output_type": "error",
     "traceback": [
      "\u001b[0;31m---------------------------------------------------------------------------\u001b[0m",
      "\u001b[0;31mModuleNotFoundError\u001b[0m                       Traceback (most recent call last)",
      "Cell \u001b[0;32mIn[10], line 1\u001b[0m\n\u001b[0;32m----> 1\u001b[0m \u001b[39mfrom\u001b[39;00m \u001b[39mqiskit_textbook\u001b[39;00m\u001b[39m.\u001b[39;00m\u001b[39mwidgets\u001b[39;00m \u001b[39mimport\u001b[39;00m bloch_calc\n\u001b[1;32m      2\u001b[0m bloch_calc()\n",
      "\u001b[0;31mModuleNotFoundError\u001b[0m: No module named 'qiskit_textbook'"
     ]
    }
   ],
   "source": [
    "from qiskit_textbook.widgets import bloch_calc\n",
    "bloch_calc()"
   ]
  },
  {
   "cell_type": "code",
   "execution_count": 22,
   "metadata": {},
   "outputs": [
    {
     "data": {
      "text/html": [
       "<h3>Version Information</h3><table><tr><th>Qiskit Software</th><th>Version</th></tr><tr><td>Qiskit</td><td>0.27.0</td></tr><tr><td>Terra</td><td>0.17.4</td></tr><tr><td>Aer</td><td>0.8.2</td></tr><tr><td>Ignis</td><td>0.6.0</td></tr><tr><td>Aqua</td><td>0.9.2</td></tr><tr><td>IBM Q Provider</td><td>0.14.0</td></tr><tr><th>System information</th></tr><tr><td>Python</td><td>3.7.7 (default, May  6 2020, 04:59:01) \n",
       "[Clang 4.0.1 (tags/RELEASE_401/final)]</td></tr><tr><td>OS</td><td>Darwin</td></tr><tr><td>CPUs</td><td>8</td></tr><tr><td>Memory (Gb)</td><td>32.0</td></tr><tr><td colspan='2'>Wed Jun 16 13:17:34 2021 BST</td></tr></table>"
      ],
      "text/plain": [
       "<IPython.core.display.HTML object>"
      ]
     },
     "metadata": {},
     "output_type": "display_data"
    }
   ],
   "source": [
    "import qiskit.tools.jupyter\n",
    "%qiskit_version_table"
   ]
  }
 ],
 "metadata": {
  "kernelspec": {
   "display_name": "Python 3.10.8 64-bit",
   "language": "python",
   "name": "python3"
  },
  "language_info": {
   "codemirror_mode": {
    "name": "ipython",
    "version": 3
   },
   "file_extension": ".py",
   "mimetype": "text/x-python",
   "name": "python",
   "nbconvert_exporter": "python",
   "pygments_lexer": "ipython3",
   "version": "3.10.8"
  },
  "vscode": {
   "interpreter": {
    "hash": "e7370f93d1d0cde622a1f8e1c04877d8463912d04d973331ad4851f04de6915a"
   }
  },
  "widgets": {
   "application/vnd.jupyter.widget-state+json": {
    "state": {
     "0e3a9250b3134696b859f0cc876d05fd": {
      "model_module": "@jupyter-widgets/base",
      "model_module_version": "1.2.0",
      "model_name": "LayoutModel",
      "state": {
       "_model_module": "@jupyter-widgets/base",
       "_model_module_version": "1.2.0",
       "_model_name": "LayoutModel",
       "_view_count": null,
       "_view_module": "@jupyter-widgets/base",
       "_view_module_version": "1.2.0",
       "_view_name": "LayoutView",
       "align_content": null,
       "align_items": null,
       "align_self": null,
       "border": null,
       "bottom": null,
       "display": null,
       "flex": null,
       "flex_flow": null,
       "grid_area": null,
       "grid_auto_columns": null,
       "grid_auto_flow": null,
       "grid_auto_rows": null,
       "grid_column": null,
       "grid_gap": null,
       "grid_row": null,
       "grid_template_areas": null,
       "grid_template_columns": null,
       "grid_template_rows": null,
       "height": null,
       "justify_content": null,
       "justify_items": null,
       "left": null,
       "margin": null,
       "max_height": null,
       "max_width": null,
       "min_height": null,
       "min_width": null,
       "object_fit": null,
       "object_position": null,
       "order": null,
       "overflow": null,
       "overflow_x": null,
       "overflow_y": null,
       "padding": null,
       "right": null,
       "top": null,
       "visibility": null,
       "width": null
      }
     },
     "0ec195bc84a54518a85886e31e7178f6": {
      "model_module": "@jupyter-widgets/controls",
      "model_module_version": "1.5.0",
      "model_name": "DescriptionStyleModel",
      "state": {
       "_model_module": "@jupyter-widgets/controls",
       "_model_module_version": "1.5.0",
       "_model_name": "DescriptionStyleModel",
       "_view_count": null,
       "_view_module": "@jupyter-widgets/base",
       "_view_module_version": "1.2.0",
       "_view_name": "StyleView",
       "description_width": ""
      }
     },
     "18a5fa494c7e47f4a626804eab4d5d60": {
      "model_module": "@jupyter-widgets/base",
      "model_module_version": "1.2.0",
      "model_name": "LayoutModel",
      "state": {
       "_model_module": "@jupyter-widgets/base",
       "_model_module_version": "1.2.0",
       "_model_name": "LayoutModel",
       "_view_count": null,
       "_view_module": "@jupyter-widgets/base",
       "_view_module_version": "1.2.0",
       "_view_name": "LayoutView",
       "align_content": null,
       "align_items": null,
       "align_self": null,
       "border": null,
       "bottom": null,
       "display": null,
       "flex": null,
       "flex_flow": null,
       "grid_area": null,
       "grid_auto_columns": null,
       "grid_auto_flow": null,
       "grid_auto_rows": null,
       "grid_column": null,
       "grid_gap": null,
       "grid_row": null,
       "grid_template_areas": null,
       "grid_template_columns": null,
       "grid_template_rows": null,
       "height": null,
       "justify_content": null,
       "justify_items": null,
       "left": null,
       "margin": null,
       "max_height": null,
       "max_width": null,
       "min_height": null,
       "min_width": null,
       "object_fit": null,
       "object_position": null,
       "order": null,
       "overflow": null,
       "overflow_x": null,
       "overflow_y": null,
       "padding": null,
       "right": null,
       "top": null,
       "visibility": null,
       "width": null
      }
     },
     "1b44a3802c4e4100a38621e8b3feb703": {
      "model_module": "@jupyter-widgets/controls",
      "model_module_version": "1.5.0",
      "model_name": "DescriptionStyleModel",
      "state": {
       "_model_module": "@jupyter-widgets/controls",
       "_model_module_version": "1.5.0",
       "_model_name": "DescriptionStyleModel",
       "_view_count": null,
       "_view_module": "@jupyter-widgets/base",
       "_view_module_version": "1.2.0",
       "_view_name": "StyleView",
       "description_width": ""
      }
     },
     "1ed8efc7b1bc4ba4813bad7b9efc278d": {
      "model_module": "@jupyter-widgets/base",
      "model_module_version": "1.2.0",
      "model_name": "LayoutModel",
      "state": {
       "_model_module": "@jupyter-widgets/base",
       "_model_module_version": "1.2.0",
       "_model_name": "LayoutModel",
       "_view_count": null,
       "_view_module": "@jupyter-widgets/base",
       "_view_module_version": "1.2.0",
       "_view_name": "LayoutView",
       "align_content": null,
       "align_items": null,
       "align_self": null,
       "border": null,
       "bottom": null,
       "display": null,
       "flex": null,
       "flex_flow": null,
       "grid_area": null,
       "grid_auto_columns": null,
       "grid_auto_flow": null,
       "grid_auto_rows": null,
       "grid_column": null,
       "grid_gap": null,
       "grid_row": null,
       "grid_template_areas": null,
       "grid_template_columns": null,
       "grid_template_rows": null,
       "height": null,
       "justify_content": null,
       "justify_items": null,
       "left": null,
       "margin": null,
       "max_height": null,
       "max_width": null,
       "min_height": null,
       "min_width": null,
       "object_fit": null,
       "object_position": null,
       "order": null,
       "overflow": null,
       "overflow_x": null,
       "overflow_y": null,
       "padding": null,
       "right": null,
       "top": null,
       "visibility": null,
       "width": "4em"
      }
     },
     "235d55acb4b64f9393d5ed1b9b92b973": {
      "model_module": "@jupyter-widgets/controls",
      "model_module_version": "1.5.0",
      "model_name": "LabelModel",
      "state": {
       "_dom_classes": [],
       "_model_module": "@jupyter-widgets/controls",
       "_model_module_version": "1.5.0",
       "_model_name": "LabelModel",
       "_view_count": null,
       "_view_module": "@jupyter-widgets/controls",
       "_view_module_version": "1.5.0",
       "_view_name": "LabelView",
       "description": "",
       "description_tooltip": null,
       "layout": "IPY_MODEL_6dd7bcfe4c314b6ebe5136d1eb4bf210",
       "placeholder": "​",
       "style": "IPY_MODEL_0ec195bc84a54518a85886e31e7178f6",
       "value": "State Vector:"
      }
     },
     "25d7f7674b4d4515ba34b966ce5168cf": {
      "model_module": "@jupyter-widgets/base",
      "model_module_version": "1.2.0",
      "model_name": "LayoutModel",
      "state": {
       "_model_module": "@jupyter-widgets/base",
       "_model_module_version": "1.2.0",
       "_model_name": "LayoutModel",
       "_view_count": null,
       "_view_module": "@jupyter-widgets/base",
       "_view_module_version": "1.2.0",
       "_view_name": "LayoutView",
       "align_content": null,
       "align_items": null,
       "align_self": null,
       "border": null,
       "bottom": null,
       "display": null,
       "flex": null,
       "flex_flow": null,
       "grid_area": null,
       "grid_auto_columns": null,
       "grid_auto_flow": null,
       "grid_auto_rows": null,
       "grid_column": null,
       "grid_gap": null,
       "grid_row": null,
       "grid_template_areas": null,
       "grid_template_columns": null,
       "grid_template_rows": null,
       "height": null,
       "justify_content": null,
       "justify_items": null,
       "left": null,
       "margin": null,
       "max_height": null,
       "max_width": null,
       "min_height": null,
       "min_width": null,
       "object_fit": null,
       "object_position": null,
       "order": null,
       "overflow": null,
       "overflow_x": null,
       "overflow_y": null,
       "padding": null,
       "right": null,
       "top": null,
       "visibility": null,
       "width": null
      }
     },
     "2c0fbbec17e24abbbe57a955b414453c": {
      "model_module": "@jupyter-widgets/controls",
      "model_module_version": "1.5.0",
      "model_name": "HTMLModel",
      "state": {
       "_dom_classes": [],
       "_model_module": "@jupyter-widgets/controls",
       "_model_module_version": "1.5.0",
       "_model_name": "HTMLModel",
       "_view_count": null,
       "_view_module": "@jupyter-widgets/controls",
       "_view_module_version": "1.5.0",
       "_view_name": "HTMLView",
       "description": "",
       "description_tooltip": null,
       "layout": "IPY_MODEL_9aa70658809c44c48e1c519adefd6e86",
       "placeholder": "​",
       "style": "IPY_MODEL_1b44a3802c4e4100a38621e8b3feb703",
       "value": "<pre></pre>"
      }
     },
     "3191b70d554e4e8aa6a9b97916ad30ab": {
      "model_module": "@jupyter-widgets/base",
      "model_module_version": "1.2.0",
      "model_name": "LayoutModel",
      "state": {
       "_model_module": "@jupyter-widgets/base",
       "_model_module_version": "1.2.0",
       "_model_name": "LayoutModel",
       "_view_count": null,
       "_view_module": "@jupyter-widgets/base",
       "_view_module_version": "1.2.0",
       "_view_name": "LayoutView",
       "align_content": null,
       "align_items": null,
       "align_self": null,
       "border": null,
       "bottom": null,
       "display": null,
       "flex": null,
       "flex_flow": null,
       "grid_area": null,
       "grid_auto_columns": null,
       "grid_auto_flow": null,
       "grid_auto_rows": null,
       "grid_column": null,
       "grid_gap": null,
       "grid_row": null,
       "grid_template_areas": null,
       "grid_template_columns": null,
       "grid_template_rows": null,
       "height": null,
       "justify_content": null,
       "justify_items": null,
       "left": null,
       "margin": null,
       "max_height": null,
       "max_width": null,
       "min_height": null,
       "min_width": null,
       "object_fit": null,
       "object_position": null,
       "order": null,
       "overflow": null,
       "overflow_x": null,
       "overflow_y": null,
       "padding": null,
       "right": null,
       "top": null,
       "visibility": null,
       "width": "5em"
      }
     },
     "3f16f9013bb14ec7a7f9ac90e0e9e046": {
      "model_module": "@jupyter-widgets/base",
      "model_module_version": "1.2.0",
      "model_name": "LayoutModel",
      "state": {
       "_model_module": "@jupyter-widgets/base",
       "_model_module_version": "1.2.0",
       "_model_name": "LayoutModel",
       "_view_count": null,
       "_view_module": "@jupyter-widgets/base",
       "_view_module_version": "1.2.0",
       "_view_name": "LayoutView",
       "align_content": null,
       "align_items": null,
       "align_self": null,
       "border": null,
       "bottom": null,
       "display": null,
       "flex": null,
       "flex_flow": null,
       "grid_area": null,
       "grid_auto_columns": null,
       "grid_auto_flow": null,
       "grid_auto_rows": null,
       "grid_column": null,
       "grid_gap": null,
       "grid_row": null,
       "grid_template_areas": null,
       "grid_template_columns": null,
       "grid_template_rows": null,
       "height": null,
       "justify_content": null,
       "justify_items": null,
       "left": null,
       "margin": null,
       "max_height": null,
       "max_width": null,
       "min_height": null,
       "min_width": null,
       "object_fit": null,
       "object_position": null,
       "order": null,
       "overflow": null,
       "overflow_x": null,
       "overflow_y": null,
       "padding": null,
       "right": null,
       "top": null,
       "visibility": null,
       "width": null
      }
     },
     "4859058a9b264a158f5ccb2672502968": {
      "model_module": "@jupyter-widgets/controls",
      "model_module_version": "1.5.0",
      "model_name": "VBoxModel",
      "state": {
       "_dom_classes": [],
       "_model_module": "@jupyter-widgets/controls",
       "_model_module_version": "1.5.0",
       "_model_name": "VBoxModel",
       "_view_count": null,
       "_view_module": "@jupyter-widgets/controls",
       "_view_module_version": "1.5.0",
       "_view_name": "VBoxView",
       "box_style": "",
       "children": [
        "IPY_MODEL_235d55acb4b64f9393d5ed1b9b92b973",
        "IPY_MODEL_51d56eb1f2b7400ca8a077dd9abb74fe"
       ],
       "layout": "IPY_MODEL_aa98b1360c18435aaaeacd35a64d651b"
      }
     },
     "487dd0b56c35463ea6f673b344a07406": {
      "model_module": "@jupyter-widgets/controls",
      "model_module_version": "1.5.0",
      "model_name": "LabelModel",
      "state": {
       "_dom_classes": [],
       "_model_module": "@jupyter-widgets/controls",
       "_model_module_version": "1.5.0",
       "_model_name": "LabelModel",
       "_view_count": null,
       "_view_module": "@jupyter-widgets/controls",
       "_view_module_version": "1.5.0",
       "_view_name": "LabelView",
       "description": "",
       "description_tooltip": null,
       "layout": "IPY_MODEL_8b5da1fa459c48d1a89a0a4acdc5f8dc",
       "placeholder": "​",
       "style": "IPY_MODEL_f05cb3fe8b754d66b697feca50af0cac",
       "value": "Define a qubit state using $\\theta$ and $\\phi$:"
      }
     },
     "5017adfdba004a4f8c140edfffda1e2b": {
      "model_module": "@jupyter-widgets/base",
      "model_module_version": "1.2.0",
      "model_name": "LayoutModel",
      "state": {
       "_model_module": "@jupyter-widgets/base",
       "_model_module_version": "1.2.0",
       "_model_name": "LayoutModel",
       "_view_count": null,
       "_view_module": "@jupyter-widgets/base",
       "_view_module_version": "1.2.0",
       "_view_name": "LayoutView",
       "align_content": null,
       "align_items": null,
       "align_self": null,
       "border": null,
       "bottom": null,
       "display": null,
       "flex": null,
       "flex_flow": null,
       "grid_area": null,
       "grid_auto_columns": null,
       "grid_auto_flow": null,
       "grid_auto_rows": null,
       "grid_column": null,
       "grid_gap": null,
       "grid_row": null,
       "grid_template_areas": null,
       "grid_template_columns": null,
       "grid_template_rows": null,
       "height": null,
       "justify_content": null,
       "justify_items": null,
       "left": null,
       "margin": null,
       "max_height": null,
       "max_width": null,
       "min_height": null,
       "min_width": null,
       "object_fit": null,
       "object_position": null,
       "order": null,
       "overflow": null,
       "overflow_x": null,
       "overflow_y": null,
       "padding": null,
       "right": null,
       "top": null,
       "visibility": null,
       "width": null
      }
     },
     "51d56eb1f2b7400ca8a077dd9abb74fe": {
      "model_module": "@jupyter-widgets/controls",
      "model_module_version": "1.5.0",
      "model_name": "HBoxModel",
      "state": {
       "_dom_classes": [],
       "_model_module": "@jupyter-widgets/controls",
       "_model_module_version": "1.5.0",
       "_model_name": "HBoxModel",
       "_view_count": null,
       "_view_module": "@jupyter-widgets/controls",
       "_view_module_version": "1.5.0",
       "_view_name": "HBoxView",
       "box_style": "",
       "children": [
        "IPY_MODEL_6e84e0b61f85421185b012312d997556",
        "IPY_MODEL_83077d4ebabb4a59acd9a951b1ce8822"
       ],
       "layout": "IPY_MODEL_3f16f9013bb14ec7a7f9ac90e0e9e046"
      }
     },
     "69d46725a9e34490a72d75461a2b1116": {
      "model_module": "@jupyter-widgets/controls",
      "model_module_version": "1.5.0",
      "model_name": "DescriptionStyleModel",
      "state": {
       "_model_module": "@jupyter-widgets/controls",
       "_model_module_version": "1.5.0",
       "_model_name": "DescriptionStyleModel",
       "_view_count": null,
       "_view_module": "@jupyter-widgets/base",
       "_view_module_version": "1.2.0",
       "_view_name": "StyleView",
       "description_width": ""
      }
     },
     "6dd7bcfe4c314b6ebe5136d1eb4bf210": {
      "model_module": "@jupyter-widgets/base",
      "model_module_version": "1.2.0",
      "model_name": "LayoutModel",
      "state": {
       "_model_module": "@jupyter-widgets/base",
       "_model_module_version": "1.2.0",
       "_model_name": "LayoutModel",
       "_view_count": null,
       "_view_module": "@jupyter-widgets/base",
       "_view_module_version": "1.2.0",
       "_view_name": "LayoutView",
       "align_content": null,
       "align_items": null,
       "align_self": null,
       "border": null,
       "bottom": null,
       "display": null,
       "flex": null,
       "flex_flow": null,
       "grid_area": null,
       "grid_auto_columns": null,
       "grid_auto_flow": null,
       "grid_auto_rows": null,
       "grid_column": null,
       "grid_gap": null,
       "grid_row": null,
       "grid_template_areas": null,
       "grid_template_columns": null,
       "grid_template_rows": null,
       "height": null,
       "justify_content": null,
       "justify_items": null,
       "left": null,
       "margin": null,
       "max_height": null,
       "max_width": null,
       "min_height": null,
       "min_width": null,
       "object_fit": null,
       "object_position": null,
       "order": null,
       "overflow": null,
       "overflow_x": null,
       "overflow_y": null,
       "padding": null,
       "right": null,
       "top": null,
       "visibility": null,
       "width": null
      }
     },
     "6e84e0b61f85421185b012312d997556": {
      "model_module": "@jupyter-widgets/controls",
      "model_module_version": "1.5.0",
      "model_name": "TextModel",
      "state": {
       "_dom_classes": [],
       "_model_module": "@jupyter-widgets/controls",
       "_model_module_version": "1.5.0",
       "_model_name": "TextModel",
       "_view_count": null,
       "_view_module": "@jupyter-widgets/controls",
       "_view_module_version": "1.5.0",
       "_view_name": "TextView",
       "continuous_update": true,
       "description": "",
       "description_tooltip": null,
       "disabled": false,
       "layout": "IPY_MODEL_9c7f09dd65d24fc69e0156d3d90fcc42",
       "placeholder": "Type something",
       "style": "IPY_MODEL_77946d3dfad2419d86f0e82f0c12b817",
       "value": "[1, 0]"
      }
     },
     "74fa278ca3324f7b95a3042ca6e984d3": {
      "buffers": [
       {
        "data": "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",
        "encoding": "base64",
        "path": [
         "value"
        ]
       }
      ],
      "model_module": "@jupyter-widgets/controls",
      "model_module_version": "1.5.0",
      "model_name": "ImageModel",
      "state": {
       "_dom_classes": [],
       "_model_module": "@jupyter-widgets/controls",
       "_model_module_version": "1.5.0",
       "_model_name": "ImageModel",
       "_view_count": null,
       "_view_module": "@jupyter-widgets/controls",
       "_view_module_version": "1.5.0",
       "_view_name": "ImageView",
       "format": "png",
       "height": "",
       "layout": "IPY_MODEL_25d7f7674b4d4515ba34b966ce5168cf",
       "value": {},
       "width": ""
      }
     },
     "77946d3dfad2419d86f0e82f0c12b817": {
      "model_module": "@jupyter-widgets/controls",
      "model_module_version": "1.5.0",
      "model_name": "DescriptionStyleModel",
      "state": {
       "_model_module": "@jupyter-widgets/controls",
       "_model_module_version": "1.5.0",
       "_model_name": "DescriptionStyleModel",
       "_view_count": null,
       "_view_module": "@jupyter-widgets/base",
       "_view_module_version": "1.2.0",
       "_view_name": "StyleView",
       "description_width": ""
      }
     },
     "77dd298926e844099916866686b66c51": {
      "model_module": "@jupyter-widgets/base",
      "model_module_version": "1.2.0",
      "model_name": "LayoutModel",
      "state": {
       "_model_module": "@jupyter-widgets/base",
       "_model_module_version": "1.2.0",
       "_model_name": "LayoutModel",
       "_view_count": null,
       "_view_module": "@jupyter-widgets/base",
       "_view_module_version": "1.2.0",
       "_view_name": "LayoutView",
       "align_content": null,
       "align_items": null,
       "align_self": null,
       "border": null,
       "bottom": null,
       "display": null,
       "flex": null,
       "flex_flow": null,
       "grid_area": null,
       "grid_auto_columns": null,
       "grid_auto_flow": null,
       "grid_auto_rows": null,
       "grid_column": null,
       "grid_gap": null,
       "grid_row": null,
       "grid_template_areas": null,
       "grid_template_columns": null,
       "grid_template_rows": null,
       "height": null,
       "justify_content": null,
       "justify_items": null,
       "left": null,
       "margin": null,
       "max_height": null,
       "max_width": null,
       "min_height": null,
       "min_width": null,
       "object_fit": null,
       "object_position": null,
       "order": null,
       "overflow": null,
       "overflow_x": null,
       "overflow_y": null,
       "padding": null,
       "right": null,
       "top": null,
       "visibility": null,
       "width": null
      }
     },
     "77f01475566b41aca1a483bc229ad414": {
      "model_module": "@jupyter-widgets/base",
      "model_module_version": "1.2.0",
      "model_name": "LayoutModel",
      "state": {
       "_model_module": "@jupyter-widgets/base",
       "_model_module_version": "1.2.0",
       "_model_name": "LayoutModel",
       "_view_count": null,
       "_view_module": "@jupyter-widgets/base",
       "_view_module_version": "1.2.0",
       "_view_name": "LayoutView",
       "align_content": null,
       "align_items": null,
       "align_self": null,
       "border": null,
       "bottom": null,
       "display": null,
       "flex": null,
       "flex_flow": null,
       "grid_area": null,
       "grid_auto_columns": null,
       "grid_auto_flow": null,
       "grid_auto_rows": null,
       "grid_column": null,
       "grid_gap": null,
       "grid_row": null,
       "grid_template_areas": null,
       "grid_template_columns": null,
       "grid_template_rows": null,
       "height": null,
       "justify_content": null,
       "justify_items": null,
       "left": null,
       "margin": null,
       "max_height": null,
       "max_width": null,
       "min_height": null,
       "min_width": null,
       "object_fit": null,
       "object_position": null,
       "order": null,
       "overflow": null,
       "overflow_x": null,
       "overflow_y": null,
       "padding": null,
       "right": null,
       "top": null,
       "visibility": null,
       "width": null
      }
     },
     "7e0e0c61b3ac4f3c85b91a4f4a3ada1b": {
      "model_module": "@jupyter-widgets/controls",
      "model_module_version": "1.5.0",
      "model_name": "HTMLModel",
      "state": {
       "_dom_classes": [],
       "_model_module": "@jupyter-widgets/controls",
       "_model_module_version": "1.5.0",
       "_model_name": "HTMLModel",
       "_view_count": null,
       "_view_module": "@jupyter-widgets/controls",
       "_view_module_version": "1.5.0",
       "_view_name": "HTMLView",
       "description": "",
       "description_tooltip": null,
       "layout": "IPY_MODEL_77f01475566b41aca1a483bc229ad414",
       "placeholder": "​",
       "style": "IPY_MODEL_be1374cdda6f4671822692e47ee461c1",
       "value": "<pre></pre>"
      }
     },
     "83077d4ebabb4a59acd9a951b1ce8822": {
      "model_module": "@jupyter-widgets/controls",
      "model_module_version": "1.5.0",
      "model_name": "ButtonModel",
      "state": {
       "_dom_classes": [],
       "_model_module": "@jupyter-widgets/controls",
       "_model_module_version": "1.5.0",
       "_model_name": "ButtonModel",
       "_view_count": null,
       "_view_module": "@jupyter-widgets/controls",
       "_view_module_version": "1.5.0",
       "_view_name": "ButtonView",
       "button_style": "",
       "description": "Check",
       "disabled": false,
       "icon": "",
       "layout": "IPY_MODEL_3191b70d554e4e8aa6a9b97916ad30ab",
       "style": "IPY_MODEL_ce7d181d669a432a97a1e520c2fdb331",
       "tooltip": ""
      }
     },
     "89f27c8215f148e7a762cd2f91617f11": {
      "model_module": "@jupyter-widgets/controls",
      "model_module_version": "1.5.0",
      "model_name": "ButtonModel",
      "state": {
       "_dom_classes": [],
       "_model_module": "@jupyter-widgets/controls",
       "_model_module_version": "1.5.0",
       "_model_name": "ButtonModel",
       "_view_count": null,
       "_view_module": "@jupyter-widgets/controls",
       "_view_module_version": "1.5.0",
       "_view_name": "ButtonView",
       "button_style": "",
       "description": "Plot",
       "disabled": false,
       "icon": "",
       "layout": "IPY_MODEL_1ed8efc7b1bc4ba4813bad7b9efc278d",
       "style": "IPY_MODEL_ac418da874324794b5859619196d0301",
       "tooltip": ""
      }
     },
     "8b5da1fa459c48d1a89a0a4acdc5f8dc": {
      "model_module": "@jupyter-widgets/base",
      "model_module_version": "1.2.0",
      "model_name": "LayoutModel",
      "state": {
       "_model_module": "@jupyter-widgets/base",
       "_model_module_version": "1.2.0",
       "_model_name": "LayoutModel",
       "_view_count": null,
       "_view_module": "@jupyter-widgets/base",
       "_view_module_version": "1.2.0",
       "_view_name": "LayoutView",
       "align_content": null,
       "align_items": null,
       "align_self": null,
       "border": null,
       "bottom": null,
       "display": null,
       "flex": null,
       "flex_flow": null,
       "grid_area": null,
       "grid_auto_columns": null,
       "grid_auto_flow": null,
       "grid_auto_rows": null,
       "grid_column": null,
       "grid_gap": null,
       "grid_row": null,
       "grid_template_areas": null,
       "grid_template_columns": null,
       "grid_template_rows": null,
       "height": null,
       "justify_content": null,
       "justify_items": null,
       "left": null,
       "margin": null,
       "max_height": null,
       "max_width": null,
       "min_height": null,
       "min_width": null,
       "object_fit": null,
       "object_position": null,
       "order": null,
       "overflow": null,
       "overflow_x": null,
       "overflow_y": null,
       "padding": null,
       "right": null,
       "top": null,
       "visibility": null,
       "width": null
      }
     },
     "9aa70658809c44c48e1c519adefd6e86": {
      "model_module": "@jupyter-widgets/base",
      "model_module_version": "1.2.0",
      "model_name": "LayoutModel",
      "state": {
       "_model_module": "@jupyter-widgets/base",
       "_model_module_version": "1.2.0",
       "_model_name": "LayoutModel",
       "_view_count": null,
       "_view_module": "@jupyter-widgets/base",
       "_view_module_version": "1.2.0",
       "_view_name": "LayoutView",
       "align_content": null,
       "align_items": null,
       "align_self": null,
       "border": null,
       "bottom": null,
       "display": null,
       "flex": null,
       "flex_flow": null,
       "grid_area": null,
       "grid_auto_columns": null,
       "grid_auto_flow": null,
       "grid_auto_rows": null,
       "grid_column": null,
       "grid_gap": null,
       "grid_row": null,
       "grid_template_areas": null,
       "grid_template_columns": null,
       "grid_template_rows": null,
       "height": null,
       "justify_content": null,
       "justify_items": null,
       "left": null,
       "margin": null,
       "max_height": null,
       "max_width": null,
       "min_height": null,
       "min_width": null,
       "object_fit": null,
       "object_position": null,
       "order": null,
       "overflow": null,
       "overflow_x": null,
       "overflow_y": null,
       "padding": null,
       "right": null,
       "top": null,
       "visibility": null,
       "width": null
      }
     },
     "9c7f09dd65d24fc69e0156d3d90fcc42": {
      "model_module": "@jupyter-widgets/base",
      "model_module_version": "1.2.0",
      "model_name": "LayoutModel",
      "state": {
       "_model_module": "@jupyter-widgets/base",
       "_model_module_version": "1.2.0",
       "_model_name": "LayoutModel",
       "_view_count": null,
       "_view_module": "@jupyter-widgets/base",
       "_view_module_version": "1.2.0",
       "_view_name": "LayoutView",
       "align_content": null,
       "align_items": null,
       "align_self": null,
       "border": null,
       "bottom": null,
       "display": null,
       "flex": null,
       "flex_flow": null,
       "grid_area": null,
       "grid_auto_columns": null,
       "grid_auto_flow": null,
       "grid_auto_rows": null,
       "grid_column": null,
       "grid_gap": null,
       "grid_row": null,
       "grid_template_areas": null,
       "grid_template_columns": null,
       "grid_template_rows": null,
       "height": null,
       "justify_content": null,
       "justify_items": null,
       "left": null,
       "margin": null,
       "max_height": null,
       "max_width": null,
       "min_height": null,
       "min_width": null,
       "object_fit": null,
       "object_position": null,
       "order": null,
       "overflow": null,
       "overflow_x": null,
       "overflow_y": null,
       "padding": null,
       "right": null,
       "top": null,
       "visibility": null,
       "width": null
      }
     },
     "a74bbee6862d404897e5f264a1e6edc8": {
      "model_module": "@jupyter-widgets/output",
      "model_module_version": "1.0.0",
      "model_name": "OutputModel",
      "state": {
       "_dom_classes": [],
       "_model_module": "@jupyter-widgets/output",
       "_model_module_version": "1.0.0",
       "_model_name": "OutputModel",
       "_view_count": null,
       "_view_module": "@jupyter-widgets/output",
       "_view_module_version": "1.0.0",
       "_view_name": "OutputView",
       "layout": "IPY_MODEL_77dd298926e844099916866686b66c51",
       "msg_id": "",
       "outputs": []
      }
     },
     "aa13028426bb45f888ac52222470b9fd": {
      "model_module": "@jupyter-widgets/controls",
      "model_module_version": "1.5.0",
      "model_name": "VBoxModel",
      "state": {
       "_dom_classes": [],
       "_model_module": "@jupyter-widgets/controls",
       "_model_module_version": "1.5.0",
       "_model_name": "VBoxModel",
       "_view_count": null,
       "_view_module": "@jupyter-widgets/controls",
       "_view_module_version": "1.5.0",
       "_view_name": "VBoxView",
       "box_style": "",
       "children": [
        "IPY_MODEL_487dd0b56c35463ea6f673b344a07406",
        "IPY_MODEL_d4000af0c7e54705943af08767f66d60",
        "IPY_MODEL_c464f275191645d1bc0854f8368755bc"
       ],
       "layout": "IPY_MODEL_18a5fa494c7e47f4a626804eab4d5d60"
      }
     },
     "aa98b1360c18435aaaeacd35a64d651b": {
      "model_module": "@jupyter-widgets/base",
      "model_module_version": "1.2.0",
      "model_name": "LayoutModel",
      "state": {
       "_model_module": "@jupyter-widgets/base",
       "_model_module_version": "1.2.0",
       "_model_name": "LayoutModel",
       "_view_count": null,
       "_view_module": "@jupyter-widgets/base",
       "_view_module_version": "1.2.0",
       "_view_name": "LayoutView",
       "align_content": null,
       "align_items": null,
       "align_self": null,
       "border": null,
       "bottom": null,
       "display": null,
       "flex": null,
       "flex_flow": null,
       "grid_area": null,
       "grid_auto_columns": null,
       "grid_auto_flow": null,
       "grid_auto_rows": null,
       "grid_column": null,
       "grid_gap": null,
       "grid_row": null,
       "grid_template_areas": null,
       "grid_template_columns": null,
       "grid_template_rows": null,
       "height": null,
       "justify_content": null,
       "justify_items": null,
       "left": null,
       "margin": null,
       "max_height": null,
       "max_width": null,
       "min_height": null,
       "min_width": null,
       "object_fit": null,
       "object_position": null,
       "order": null,
       "overflow": null,
       "overflow_x": null,
       "overflow_y": null,
       "padding": null,
       "right": null,
       "top": null,
       "visibility": null,
       "width": null
      }
     },
     "ac418da874324794b5859619196d0301": {
      "model_module": "@jupyter-widgets/controls",
      "model_module_version": "1.5.0",
      "model_name": "ButtonStyleModel",
      "state": {
       "_model_module": "@jupyter-widgets/controls",
       "_model_module_version": "1.5.0",
       "_model_name": "ButtonStyleModel",
       "_view_count": null,
       "_view_module": "@jupyter-widgets/base",
       "_view_module_version": "1.2.0",
       "_view_name": "StyleView",
       "button_color": null,
       "font_weight": ""
      }
     },
     "b75b9fab8c95454787407840352d1a7a": {
      "model_module": "@jupyter-widgets/controls",
      "model_module_version": "1.5.0",
      "model_name": "TextModel",
      "state": {
       "_dom_classes": [],
       "_model_module": "@jupyter-widgets/controls",
       "_model_module_version": "1.5.0",
       "_model_name": "TextModel",
       "_view_count": null,
       "_view_module": "@jupyter-widgets/controls",
       "_view_module_version": "1.5.0",
       "_view_name": "TextView",
       "continuous_update": true,
       "description": "",
       "description_tooltip": null,
       "disabled": false,
       "layout": "IPY_MODEL_0e3a9250b3134696b859f0cc876d05fd",
       "placeholder": "Phi",
       "style": "IPY_MODEL_be5507940a5142c4849eb527759d0fb4",
       "value": ""
      }
     },
     "be1374cdda6f4671822692e47ee461c1": {
      "model_module": "@jupyter-widgets/controls",
      "model_module_version": "1.5.0",
      "model_name": "DescriptionStyleModel",
      "state": {
       "_model_module": "@jupyter-widgets/controls",
       "_model_module_version": "1.5.0",
       "_model_name": "DescriptionStyleModel",
       "_view_count": null,
       "_view_module": "@jupyter-widgets/base",
       "_view_module_version": "1.2.0",
       "_view_name": "StyleView",
       "description_width": ""
      }
     },
     "be5507940a5142c4849eb527759d0fb4": {
      "model_module": "@jupyter-widgets/controls",
      "model_module_version": "1.5.0",
      "model_name": "DescriptionStyleModel",
      "state": {
       "_model_module": "@jupyter-widgets/controls",
       "_model_module_version": "1.5.0",
       "_model_name": "DescriptionStyleModel",
       "_view_count": null,
       "_view_module": "@jupyter-widgets/base",
       "_view_module_version": "1.2.0",
       "_view_name": "StyleView",
       "description_width": ""
      }
     },
     "c464f275191645d1bc0854f8368755bc": {
      "model_module": "@jupyter-widgets/controls",
      "model_module_version": "1.5.0",
      "model_name": "HBoxModel",
      "state": {
       "_dom_classes": [],
       "_model_module": "@jupyter-widgets/controls",
       "_model_module_version": "1.5.0",
       "_model_name": "HBoxModel",
       "_view_count": null,
       "_view_module": "@jupyter-widgets/controls",
       "_view_module_version": "1.5.0",
       "_view_name": "HBoxView",
       "box_style": "",
       "children": [
        "IPY_MODEL_b75b9fab8c95454787407840352d1a7a",
        "IPY_MODEL_89f27c8215f148e7a762cd2f91617f11"
       ],
       "layout": "IPY_MODEL_5017adfdba004a4f8c140edfffda1e2b"
      }
     },
     "ce7d181d669a432a97a1e520c2fdb331": {
      "model_module": "@jupyter-widgets/controls",
      "model_module_version": "1.5.0",
      "model_name": "ButtonStyleModel",
      "state": {
       "_model_module": "@jupyter-widgets/controls",
       "_model_module_version": "1.5.0",
       "_model_name": "ButtonStyleModel",
       "_view_count": null,
       "_view_module": "@jupyter-widgets/base",
       "_view_module_version": "1.2.0",
       "_view_name": "StyleView",
       "button_color": null,
       "font_weight": ""
      }
     },
     "d4000af0c7e54705943af08767f66d60": {
      "model_module": "@jupyter-widgets/controls",
      "model_module_version": "1.5.0",
      "model_name": "TextModel",
      "state": {
       "_dom_classes": [],
       "_model_module": "@jupyter-widgets/controls",
       "_model_module_version": "1.5.0",
       "_model_name": "TextModel",
       "_view_count": null,
       "_view_module": "@jupyter-widgets/controls",
       "_view_module_version": "1.5.0",
       "_view_name": "TextView",
       "continuous_update": true,
       "description": "",
       "description_tooltip": null,
       "disabled": false,
       "layout": "IPY_MODEL_f0a97ff9eba245c08d02316dbfe58b43",
       "placeholder": "Theta",
       "style": "IPY_MODEL_69d46725a9e34490a72d75461a2b1116",
       "value": ""
      }
     },
     "f05cb3fe8b754d66b697feca50af0cac": {
      "model_module": "@jupyter-widgets/controls",
      "model_module_version": "1.5.0",
      "model_name": "DescriptionStyleModel",
      "state": {
       "_model_module": "@jupyter-widgets/controls",
       "_model_module_version": "1.5.0",
       "_model_name": "DescriptionStyleModel",
       "_view_count": null,
       "_view_module": "@jupyter-widgets/base",
       "_view_module_version": "1.2.0",
       "_view_name": "StyleView",
       "description_width": ""
      }
     },
     "f0a97ff9eba245c08d02316dbfe58b43": {
      "model_module": "@jupyter-widgets/base",
      "model_module_version": "1.2.0",
      "model_name": "LayoutModel",
      "state": {
       "_model_module": "@jupyter-widgets/base",
       "_model_module_version": "1.2.0",
       "_model_name": "LayoutModel",
       "_view_count": null,
       "_view_module": "@jupyter-widgets/base",
       "_view_module_version": "1.2.0",
       "_view_name": "LayoutView",
       "align_content": null,
       "align_items": null,
       "align_self": null,
       "border": null,
       "bottom": null,
       "display": null,
       "flex": null,
       "flex_flow": null,
       "grid_area": null,
       "grid_auto_columns": null,
       "grid_auto_flow": null,
       "grid_auto_rows": null,
       "grid_column": null,
       "grid_gap": null,
       "grid_row": null,
       "grid_template_areas": null,
       "grid_template_columns": null,
       "grid_template_rows": null,
       "height": null,
       "justify_content": null,
       "justify_items": null,
       "left": null,
       "margin": null,
       "max_height": null,
       "max_width": null,
       "min_height": null,
       "min_width": null,
       "object_fit": null,
       "object_position": null,
       "order": null,
       "overflow": null,
       "overflow_x": null,
       "overflow_y": null,
       "padding": null,
       "right": null,
       "top": null,
       "visibility": null,
       "width": null
      }
     }
    },
    "version_major": 2,
    "version_minor": 0
   }
  }
 },
 "nbformat": 4,
 "nbformat_minor": 2
}
