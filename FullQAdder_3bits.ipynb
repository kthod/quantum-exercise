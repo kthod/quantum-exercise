{
 "cells": [
  {
   "cell_type": "code",
   "execution_count": null,
   "metadata": {},
   "outputs": [],
   "source": [
    "from qiskit import *\n",
    "from qiskit.tools.visualization import plot_bloch_multivector\n",
    "from qiskit.tools.visualization import plot_histogram\n",
    "\n",
    "# Creating a circuit with 8 quantum bits and 2 classical bits\n",
    "qc = QuantumCircuit(8,2)\n",
    "\n",
    "# Preparing inputs\n",
    "qc.x(0) # Comment this line to make Qbit0 = |0>\n",
    "qc.x(1) # Comment this line to make Qbit1 = |0>\n",
    "qc.x(2) # Comment this line to make Qbit2 = |0> ( carry-in bit )\n",
    "qc.barrier()\n",
    "\n",
    "# AND gate1 implementation\n",
    "qc.ccx(0,1,3)\n",
    "qc.barrier()\n",
    "\n",
    "# OR gate1 implementation\n",
    "qc.cx(0,4) \n",
    "qc.cx(1,4)\n",
    "qc.barrier()\n",
    "\n",
    "# OR gate2 implementation\n",
    "qc.cx(2,5) \n",
    "qc.cx(4,5)\n",
    "qc.barrier()\n",
    "\n",
    "# AND gate2 implementation\n",
    "qc.ccx(2,4,6)\n",
    "qc.barrier()\n",
    "\n",
    "# OR gate implementation\n",
    "qc.x(3)\n",
    "qc.x(6)\n",
    "qc.ccx(3,6,7)\n",
    "qc.x(7)\n",
    "qc.barrier()\n",
    "\n",
    "# Measuring and put result to classical bit\n",
    "qc.measure(5,0) # ( sum )\n",
    "qc.measure(7,1) # ( carry-out )\n",
    "qc.draw(output='mpl')\n",
    "\n",
    "# Run the experimient 1024 times and get stats\n",
    "counts = execute(qc,Aer.get_backend('qasm_simulator')).result().get_counts()\n",
    "plot_histogram(counts)"
   ]
  },
  {
   "cell_type": "code",
   "execution_count": null,
   "metadata": {},
   "outputs": [],
   "source": []
  },
  {
   "cell_type": "code",
   "execution_count": null,
   "metadata": {},
   "outputs": [],
   "source": []
  }
 ],
 "metadata": {
  "kernelspec": {
   "display_name": "Python 3 (ipykernel)",
   "language": "python",
   "name": "python3"
  },
  "language_info": {
   "codemirror_mode": {
    "name": "ipython",
    "version": 3
   },
   "file_extension": ".py",
   "mimetype": "text/x-python",
   "name": "python",
   "nbconvert_exporter": "python",
   "pygments_lexer": "ipython3",
   "version": "3.7.9"
  }
 },
 "nbformat": 4,
 "nbformat_minor": 4
}
