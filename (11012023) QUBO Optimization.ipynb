{
 "cells": [
  {
   "cell_type": "markdown",
   "metadata": {},
   "source": [
    "# Lab and Workshop on Optimization Problems with Quantum Computers\n",
    "\n",
    "\n",
    "<b>  Prof Angelakis TUC and team¶ </b>\n",
    "\n",
    "\n",
    "\n",
    "<b> Background </b>\n",
    "\n",
    "Optimization problems are found in many industries, from logistics to finance and oil & gas industries. These problems come in various forms, but all of them share the common goal of minimizing or maximizing a certain property. Solving real world optimizations can often result in millions of dollars worth of cost savings or a massive reduction in environmental or resources wastage, and many companies have poured in efforts into finding such solutions. Needless to say, these problems are typically very difficult to solve with classical computers and solution providers usually compete to provide the best heuristics available. One goal of quantum computing is to find solutions to these optimization problems that can outperform modern day classical heuristics. \n",
    "\n",
    "Early demonstrations include optimizing traffic done by Volkswagen and also Exxon Mobil as well as portfolio optimization in large banks. In our team we have also been looking extensively in solving current bottlencts in the number of qubits required for such problems with our recent breakthroughs algorithms (see our research page)\n",
    "\n",
    "In this workshop, we will take a look at how the quantum optimization algorithms we learnt can be applied to the types of optimization problems commonly faced within the industry.  \n",
    "\n",
    "We will solve two real world problems: the tail assignment problem used to assign aircraft to various routes consisting of different destinations and also the vehicle routing problem.\n",
    "\n",
    "We will go through the codes hands on, and demonstrate the results using classical emulators but also quantum computers on the cloud. Both are extremely hard, NP hard problems, and classical computers \n",
    "\n",
    "\n",
    "\n",
    "<td colspan=\"3\" align=\"right\" style=\"color:#bbbbbb;background-color:#ffffff;font-size:11px;font-style:italic;\">\n",
    "        This cell contains some macros. If there is a problem with displaying mathematical formulas, please run this cell to load these macros.\n",
    "    </td>\n",
    "    \n",
    "$ \\newcommand{\\bb}[1]{\\boldsymbol #1} $\n",
    "$ \\newcommand{\\bra}[1]{\\langle #1|} $\n",
    "$ \\newcommand{\\ket}[1]{|#1\\rangle} $\n",
    "$ \\newcommand{\\braket}[2]{\\langle #1|#2\\rangle} $\n",
    "$ \\newcommand{\\ketbra}[2]{|#1 \\rangle \\langle #2|}$\n",
    "$ \\newcommand{\\dot}[2]{ #1 \\cdot #2} $\n",
    "$ \\newcommand{\\biginner}[2]{\\left\\langle #1,#2\\right\\rangle} $\n",
    "$ \\newcommand{\\mymatrix}[2]{\\left( \\begin{array}{#1} #2\\end{array} \\right)} $\n",
    "$ \\newcommand{\\myvector}[1]{\\mymatrix{c}{#1}} $\n",
    "$ \\newcommand{\\myrvector}[1]{\\mymatrix{r}{#1}} $\n",
    "$ \\newcommand{\\mypar}[1]{\\left( #1 \\right)} $\n",
    "$ \\newcommand{\\mybigpar}[1]{ \\Big( #1 \\Big)} $\n",
    "$ \\newcommand{\\sqrttwo}{\\frac{1}{\\sqrt{2}}} $\n",
    "$ \\newcommand{\\dsqrttwo}{\\dfrac{1}{\\sqrt{2}}} $\n",
    "$ \\newcommand{\\onehalf}{\\frac{1}{2}} $\n",
    "$ \\newcommand{\\donehalf}{\\dfrac{1}{2}} $\n",
    "$ \\newcommand{\\hadamard}{ \\mymatrix{rr}{ \\sqrttwo & \\sqrttwo \\\\ \\sqrttwo & -\\sqrttwo }} $\n",
    "$ \\newcommand{\\vzero}{\\myvector{1\\\\0}} $\n",
    "$ \\newcommand{\\vone}{\\myvector{0\\\\1}} $\n",
    "$ \\newcommand{\\vhadamardzero}{\\myvector{ \\sqrttwo \\\\  \\sqrttwo } } $\n",
    "$ \\newcommand{\\vhadamardone}{ \\myrvector{ \\sqrttwo \\\\ -\\sqrttwo } } $\n",
    "$ \\newcommand{\\myarray}[2]{ \\begin{array}{#1}#2\\end{array}} $\n",
    "$ \\newcommand{\\X}{ \\mymatrix{cc}{0 & 1 \\\\ 1 & 0}  } $\n",
    "$ \\newcommand{\\Z}{ \\mymatrix{rr}{1 & 0 \\\\ 0 & -1}  } $\n",
    "$ \\newcommand{\\Htwo}{ \\mymatrix{rrrr}{ \\frac{1}{2} & \\frac{1}{2} & \\frac{1}{2} & \\frac{1}{2} \\\\ \\frac{1}{2} & -\\frac{1}{2} & \\frac{1}{2} & -\\frac{1}{2} \\\\ \\frac{1}{2} & \\frac{1}{2} & -\\frac{1}{2} & -\\frac{1}{2} \\\\ \\frac{1}{2} & -\\frac{1}{2} & -\\frac{1}{2} & \\frac{1}{2} } } $\n",
    "$ \\newcommand{\\CNOT}{ \\mymatrix{cccc}{1 & 0 & 0 & 0 \\\\ 0 & 1 & 0 & 0 \\\\ 0 & 0 & 0 & 1 \\\\ 0 & 0 & 1 & 0} } $\n",
    "$ \\newcommand{\\norm}[1]{ \\left\\lVert #1 \\right\\rVert } $"
   ]
  },
  {
   "cell_type": "markdown",
   "metadata": {},
   "source": [
    "<img src=\"v1.png\" width=\"100%\" align=\"center\">"
   ]
  },
  {
   "cell_type": "markdown",
   "metadata": {},
   "source": [
    "# Recap on QUBO and VQAs\n",
    "\n",
    "\n",
    "<b>Quadratic Unconstrained Binary Optimization (QUBO)</b>\n",
    "\n",
    "Here, we will focus on a type of binary optimization known as <i>Quadratic Unconstrained Binary Optimization</i> (QUBO) that we have covered in the lectures earlier. As we have learnt, a QUBO problem has a cost function of the form \n",
    "\n",
    "$$\\begin{aligned}\n",
    "C & = \\boldsymbol{x}^T \\cdot \\boldsymbol{A} \\cdot \\boldsymbol{x} \\\\\n",
    "& = \\sum_{i\\neq j} A_{ij} x_i x_j + \\sum_i A_{ii} x_i\n",
    "\\end{aligned}\n",
    "$$\n",
    "\n",
    "where $\\boldsymbol{x}$ is a vector of binary variables, and $\\boldsymbol{A}$ is a matrix that is constructed based on the problem you want to solve. A QUBO problem is solved when the optimal vector, $x_{\\textrm{opt}}$ consisting of the optimal combination of $1$s and $0$s, is found such that our cost function $C$ is at a minimum. \n",
    "\n",
    "\n",
    "<b>Variational Quantum Algorithms (VQAs)</b>\n",
    "\n",
    "\n",
    "\n",
    "Variational Quantum Algorithms (VQA) (see previous lectures and labs) are a form of <i>hybrid-quantum classical algorithms</i>. These algorithms have a classical component which is executed on a classical computer, and a quantum component which involves a quantum computer. VQAs are typically used to solve problems which requires the quantum computer to output a specific state. A quantum circuit is used to initialize qubits in a trial state, and a classical <i>feedback loop</i> (implemented on a classical computer) is used to tweak the parameters of the quantum circuit such that the circuit outputs the desired quantum state.  \n",
    "\n",
    "<img src=\"vqa.png\" width=\"70%\" align=\"center\">"
   ]
  },
  {
   "cell_type": "markdown",
   "metadata": {},
   "source": [
    "<img src=\"v2.png\" width=\"100%\" align=\"center\">"
   ]
  },
  {
   "cell_type": "markdown",
   "metadata": {},
   "source": [
    "<img src=\"v3.png\" width=\"100%\" align=\"center\">"
   ]
  },
  {
   "cell_type": "markdown",
   "metadata": {},
   "source": [
    "<img src=\"v4a.png\" width=\"100%\" align=\"center\">"
   ]
  },
  {
   "cell_type": "markdown",
   "metadata": {},
   "source": [
    "<img src=\"v6.png\" width=\"100%\" align=\"center\">"
   ]
  },
  {
   "cell_type": "markdown",
   "metadata": {},
   "source": [
    "<img src=\"v5.png\" width=\"100%\" align=\"center\">"
   ]
  },
  {
   "cell_type": "markdown",
   "metadata": {},
   "source": [
    "<img src=\"v7.png\" width=\"100%\" align=\"center\">"
   ]
  },
  {
   "cell_type": "markdown",
   "metadata": {},
   "source": [
    "<img src=\"v8.png\" width=\"100%\" align=\"center\">"
   ]
  },
  {
   "cell_type": "code",
   "execution_count": null,
   "metadata": {},
   "outputs": [],
   "source": []
  },
  {
   "cell_type": "code",
   "execution_count": null,
   "metadata": {},
   "outputs": [],
   "source": []
  },
  {
   "cell_type": "code",
   "execution_count": 1,
   "metadata": {},
   "outputs": [
    {
     "name": "stdout",
     "output_type": "stream",
     "text": [
      "Packages imported\n"
     ]
    }
   ],
   "source": [
    "import numpy as np\n",
    "import itertools\n",
    "from qiskit import QuantumCircuit, execute, Aer\n",
    "from qiskit.visualization import plot_histogram\n",
    "import matplotlib.pyplot as plt\n",
    "from scipy.optimize import minimize\n",
    "import time\n",
    "import networkx as nx\n",
    "import itertools\n",
    "\n",
    "###### if import fails, uncomment and run the following:\n",
    "# import sys\n",
    "# !{sys.executable} -m pip install qiskit_optimization\n",
    "\n",
    "from qiskit.circuit.library import TwoLocal\n",
    "from qiskit.algorithms import VQE\n",
    "from qiskit.algorithms.optimizers import SPSA, COBYLA\n",
    "from qiskit.utils import QuantumInstance\n",
    "\n",
    "\n",
    "\n",
    "print(\"Packages imported\")\n"
   ]
  },
  {
   "cell_type": "code",
   "execution_count": 2,
   "metadata": {
    "scrolled": false
   },
   "outputs": [
    {
     "data": {
      "image/png": "[encoded data removed]",
      "text/plain": [
       "<Figure size 688.597x325.08 with 1 Axes>"
      ]
     },
     "execution_count": 2,
     "metadata": {},
     "output_type": "execute_result"
    }
   ],
   "source": [
    "\n",
    "\n",
    "def circuit(nq,nd,angvec): # Creates our variational circuit to use throughout this notebook\n",
    "    c = QuantumCircuit(nq,nq)\n",
    "    \n",
    "    ###############################\n",
    "    # Functions to create 1 and 2 qubit gates\n",
    "    def oneqbgates(j):\n",
    "        for i in range(nq):\n",
    "            angle = angvec[j+i]\n",
    "            c.ry(angle,i)\n",
    "        return c\n",
    "\n",
    "    def twoqbgates(m): # m is the depth\n",
    "        if m%2 == 1 and nq%2 == 1:   \n",
    "            for g in range(2):\n",
    "                for k in range(0,nq-2,2):\n",
    "                    c.cx(g+k,g+1+k)\n",
    "        if m%2 == 1 and nq%2 == 0:  \n",
    "            for g in range(2):\n",
    "                for k in range(0,nq-g-1,2):\n",
    "                    c.cx(k+g,k+g+1)\n",
    "\n",
    "        if m%2 == 0 and nq%2 == 1:\n",
    "            for g in range(1,-1,-1):\n",
    "                for k in range(0,nq-2,2):\n",
    "                    c.cx(g+k,g+1+k)\n",
    "                    \n",
    "        if m%2 == 0 and nq%2 == 0:\n",
    "            for g in range(1,-1,-1):\n",
    "                for k in range(0,nq-g-1,2):\n",
    "                    c.cx(g+k,g+1+k)            \n",
    "        c.barrier()\n",
    "        return c  \n",
    "\n",
    "    def mes():\n",
    "        for i in range(nq):\n",
    "            c.measure(i,i)\n",
    "        return c\n",
    "    \n",
    "    ###############################\n",
    "    # Creating the circuit is just calling the above functions\n",
    "    \n",
    "    # Put all qubits in Hadamard\n",
    "    for i in range(nq):\n",
    "        c.h(i)\n",
    "    \n",
    "    # Generates 3 layers of gates\n",
    "    j=0\n",
    "    for i in range(nd):\n",
    "        twoqbgates(i)\n",
    "        oneqbgates(j)\n",
    "        c.barrier()\n",
    "        \n",
    "        j = j+nq\n",
    "       \n",
    "    # Add measurement at the end\n",
    "    mes()\n",
    "    return c\n",
    "\n",
    "def cdict(circ,measurementcounts): # Function to measure our circuit, used throughout this notebook\n",
    "    job = execute(circ,Aer.get_backend('qasm_simulator'),shots=measurementcounts,  max_parallel_threads=1)\n",
    "    return job.result().get_counts(circ)\n",
    "\n",
    "def cmplot(circ, measurementcounts): # Function to plot the output of our circuit, used throughout this notebook\n",
    "    job = execute(circ,Aer.get_backend('qasm_simulator'),shots=measurementcounts,  max_parallel_threads=1)\n",
    "    data = job.result().get_counts(circ)\n",
    "    fig_len, fig_height = 7,5\n",
    "    if len(data) > 16:\n",
    "        fig_len = 20\n",
    "    return plot_histogram(data, figsize=(fig_len,fig_height))\n",
    "\n",
    "test_circuit = circuit(4,1,np.zeros(20))\n",
    "\n",
    "test_circuit.draw(output='mpl')"
   ]
  },
  {
   "cell_type": "markdown",
   "metadata": {},
   "source": [
    "# Travelling Salesman Problem\n",
    "\n",
    "<img src=\"v9.png\" width=\"50%\" align=\"right\">\n",
    "\n",
    "### Introduction\n",
    "\n",
    "Objective: Find a cycle through all available destinations such that the total distance travelled is at a minimum\n",
    "\n",
    "### Constraints\n",
    "\n",
    " - At each timestep, the salesman has to visit a destination\n",
    " - At each timestep, only one destination can be visited\n",
    "\n",
    "\n",
    "### A Classical Optimization Problem\n",
    "\n",
    "\n",
    "\n",
    "Consider a set of $N$ destinations. Here, we will require $N^2$ binary variables $x_{i,p}$. $i$ is the index for the locations, and $p$ is the index for each *timestep*. A matrix $w_{ij}$ is used to contain all the distances between the locations $i$ and $j$.\n",
    "\n",
    "The Travelling Salesman Problem with the constraints above can then be formulated as follows:\n",
    "\n",
    "\n",
    "\n",
    "$$\\begin{aligned}\n",
    "\\min_{x} & \\sum_{i,j} w_{ij} \\sum_{p} x_{i,p} x_{j,p+1}  \\\\\n",
    "\\textrm{s.t. } & \\sum_{i} x_{i,p}  = 1 \\: & \\forall p\\\\\n",
    "& \\sum_{p} x_{i,p} = 1 \\: & \\forall i\\\\\n",
    "& x_{i,p} \\in \\{0,1\\} \\: &\n",
    "\\end{aligned}\n",
    "$$\n",
    "\n",
    " - First line: Objective to be minimized. It is the total distance travelled.\n",
    " - Second line: constraint. Each destination can only be visited once.\n",
    " - Third line: constraint. One destination has to be visited at each timestep.\n",
    "\n",
    "The binary variables $x_{i,p} = 1$ if destination $i$ is visited at time $p$. If we initialize a problem with $N=4$ destinations, the mapping will result in a $16\\times 16$ QUBO problem. This might not seem very big, and can be solved quickly using classical methods. However, as the number of destinations increase, the size of the problem increases very quickly, and the number of possible solutions will soon become too large to enumerate. \n",
    "\n",
    "\n"
   ]
  },
  {
   "cell_type": "code",
   "execution_count": 3,
   "metadata": {},
   "outputs": [],
   "source": [
    "###### if import fails, uncomment and run the following:\n",
    "# import sys\n",
    "# !{sys.executable} -m pip install qiskit_optimization\n",
    "\n",
    "from qiskit_optimization.applications import Tsp\n",
    "from qiskit_optimization.problems import QuadraticProgram\n",
    "from qiskit_optimization.converters import QuadraticProgramToQubo\n",
    "from qiskit_optimization.algorithms import MinimumEigenOptimizer\n"
   ]
  },
  {
   "cell_type": "code",
   "execution_count": 5,
   "metadata": {
    "scrolled": false
   },
   "outputs": [
    {
     "name": "stdout",
     "output_type": "stream",
     "text": [
      "distance\n",
      " [[ 0. 78. 14.]\n",
      " [78.  0. 88.]\n",
      " [14. 88.  0.]]\n"
     ]
    },
    {
     "data": {
      "image/png": "[encoded data removed]",
      "text/plain": [
       "<Figure size 432x288 with 1 Axes>"
      ]
     },
     "metadata": {},
     "output_type": "display_data"
    }
   ],
   "source": [
    "# Generating a graph of 3 nodes    \n",
    "n = 3\n",
    "num_qubits = n ** 2\n",
    "my_tsp = Tsp.create_random_instance(n, seed=100)\n",
    "adj_matrix = nx.to_numpy_matrix(my_tsp.graph)\n",
    "print('distance\\n', adj_matrix)\n",
    "\n",
    "# Draw the graph\n",
    "G = nx.Graph()\n",
    "G.add_nodes_from(np.arange(0, n, 1))\n",
    "colors = ['r' for node in G.nodes()]\n",
    "\n",
    "for i in range(0, n):\n",
    "    for j in range(i+1, n):\n",
    "        G.add_edge(i, j, weight=adj_matrix[i,j])\n",
    "\n",
    "pos = [my_tsp.graph.nodes[node]['pos']  for node in my_tsp.graph.nodes]\n",
    "\n",
    "def draw_graph(G, colors, pos):\n",
    "    default_axes = plt.axes(frameon=True)\n",
    "    nx.draw_networkx(G, node_color=colors, node_size=600, alpha=.8, ax=default_axes, pos=pos)\n",
    "    edge_labels = nx.get_edge_attributes(G, 'weight')\n",
    "    nx.draw_networkx_edge_labels(G, pos=pos, edge_labels=edge_labels)\n",
    "\n",
    "def draw_tsp_solution(G, order, colors, pos):\n",
    "    G2 = nx.DiGraph()\n",
    "    G2.add_nodes_from(G)\n",
    "    n = len(order)\n",
    "    for i in range(n):\n",
    "        j = (i + 1) % n\n",
    "        G2.add_edge(order[i], order[j], weight=G[order[i]][order[j]]['weight'])\n",
    "    default_axes = plt.axes(frameon=True)\n",
    "    nx.draw_networkx(G2, node_color=colors, edge_color='b', node_size=600, alpha=.8, ax=default_axes, pos=pos)\n",
    "    edge_labels = nx.get_edge_attributes(G2, 'weight')\n",
    "    nx.draw_networkx_edge_labels(G2, pos, font_color='b', edge_labels=edge_labels)\n",
    "    \n",
    "def get_timesteps(bitstring, n_destination):\n",
    "    timesteps = best_bitstring_tsp.reshape(n_destination ,-1)\n",
    "    ts1 = timesteps[0]\n",
    "    print(\"Original bitstring:\", bitstring)\n",
    "    print(\"Broken into timesteps:\", [list(t) for t in timesteps])\n",
    "    print(list(ts1), \" Start from destination:\", np.where(ts1== 1)[0][0])\n",
    "    for k in range(1,n_destination-1):\n",
    "        tstep = timesteps[k]\n",
    "        print(list(tstep), \" Move to destination:\",np.where(tstep== 1)[0][0])\n",
    "    tsf = timesteps[-1]\n",
    "    print(list(tsf), \" End at destination:\", np.where(tsf== 1)[0][0])\n",
    "    \n",
    "draw_graph(G, colors, pos)\n",
    "plt.pause(0.01)\n",
    "\n"
   ]
  },
  {
   "cell_type": "code",
   "execution_count": 7,
   "metadata": {
    "scrolled": false
   },
   "outputs": [
    {
     "name": "stdout",
     "output_type": "stream",
     "text": [
      "Total number of possible solutions: 6\n"
     ]
    },
    {
     "data": {
      "image/png": "[encoded data removed]",
      "text/plain": [
       "<Figure size 720x360 with 1 Axes>"
      ]
     },
     "metadata": {
      "needs_background": "light"
     },
     "output_type": "display_data"
    }
   ],
   "source": [
    "tsol_vals = []\n",
    "\n",
    "jr1 = 0\n",
    "for tsol in itertools.permutations(range(n), r=n):\n",
    "    t_dist = my_tsp.tsp_value(tsol, adj_matrix)\n",
    "    tsol_vals.append(t_dist)\n",
    "    jr1 = jr1 + 1\n",
    "\n",
    "sol_counts = dict()\n",
    "for i in tsol_vals:\n",
    "    sol_counts[i] = sol_counts.get(i, 0) + 1\n",
    "\n",
    "distances = list(sol_counts.keys())\n",
    "counts = list(sol_counts.values())\n",
    "\n",
    "print(\"Total number of possible solutions:\",jr1 )\n",
    "\n",
    "fig = plt.figure(figsize = (10, 5))\n",
    "plt.bar(distances,counts,width = 1)\n",
    "plt.xlabel(\"Possible distances travelled\")\n",
    "plt.ylabel(\"Number of solutions\")\n",
    "plt.title(\"Distribution of TSP distances\")\n",
    "plt.show()\n",
    "\n",
    "\n"
   ]
  },
  {
   "cell_type": "markdown",
   "metadata": {},
   "source": [
    "### Reformulating TSP as a QUBO\n",
    "\n",
    "Since we only have equality constraints, we can implement them easily into our cost function to give us a single objective to be minimized. We will use a penalty term, $A$, that increases the cost function value each time the constraints are not met.\n",
    "\n",
    "\n",
    "$$\\begin{aligned}\n",
    "C(\\boldsymbol{x}) =  &\\sum_{i,j} w_{ij} \\sum_{p} x_{i,p} x_{j,p+1}  \\\\\n",
    "& + A \\left( \\sum_{i} x_{i,p} - 1 \\right)^2\\\\\n",
    "& + A \\left( \\sum_{p} x_{i,p} - 1 \\right)^2 \n",
    "\\end{aligned}\n",
    "$$\n",
    "\n",
    "We choose the value $A$ such that it is bigger than the largest term in our destination matrix.\n",
    "\n",
    "With our $N=3$ destinations, we can formulate our problem as a $9 \\times 9$ QUBO problem.\n",
    "\n",
    "Qiskit provides some functionality for the travelling salesman problem. These functions allow us to obtain the required QUBO matrices.\n"
   ]
  },
  {
   "cell_type": "code",
   "execution_count": 8,
   "metadata": {
    "scrolled": true
   },
   "outputs": [
    {
     "name": "stdout",
     "output_type": "stream",
     "text": [
      "[[2162. 2162. 2162. 2162.   78.   78. 2162.   14.   14.]\n",
      " [   0. 2162. 2162.   78. 2162.   78.   14. 2162.   14.]\n",
      " [   0.    0. 2162.   78.   78. 2162.   14.   14. 2162.]\n",
      " [   0.    0.    0. 2162. 2162. 2162. 2162.   88.   88.]\n",
      " [   0.    0.    0.    0. 2162. 2162.   88. 2162.   88.]\n",
      " [   0.    0.    0.    0.    0. 2162.   88.   88. 2162.]\n",
      " [   0.    0.    0.    0.    0.    0. 2162. 2162. 2162.]\n",
      " [   0.    0.    0.    0.    0.    0.    0. 2162. 2162.]\n",
      " [   0.    0.    0.    0.    0.    0.    0.    0. 2162.]]\n"
     ]
    }
   ],
   "source": [
    "def TSP_qubomat(qp): # Function to obtain qubo problem using Qiskit functionality\n",
    "    \n",
    "    qp2qubo = QuadraticProgramToQubo()\n",
    "    qubo = qp2qubo.convert(qp)\n",
    "    wvec = qubo.objective.linear.to_array()         # Obtain the linear terms\n",
    "    hmat = qubo.objective.quadratic.to_array()      # Obtain the quadratic terms\n",
    "    return hmat, wvec\n",
    "\n",
    "\n",
    "qp = my_tsp.to_quadratic_program()\n",
    "\n",
    "\n",
    "tsp_quad, tsp_linear= TSP_qubomat(qp)\n",
    "\n",
    "print(tsp_quad)"
   ]
  },
  {
   "cell_type": "markdown",
   "metadata": {},
   "source": [
    "### Solving the problem classically using \"brute force\"\n",
    "\n",
    "Here, we will look for the optimal solutions by brute forcing our way through all $2^9=512$ solutions and looking for the bitstring that gives us the lowest cost function value"
   ]
  },
  {
   "cell_type": "code",
   "execution_count": 9,
   "metadata": {},
   "outputs": [
    {
     "name": "stdout",
     "output_type": "stream",
     "text": [
      "Best bitstring found: [0 0 1 0 1 0 1 0 0]\n",
      "Total distance = 180.0\n",
      "\n",
      "Original bitstring: [0 0 1 0 1 0 1 0 0]\n",
      "Broken into timesteps: [[0, 0, 1], [0, 1, 0], [1, 0, 0]]\n",
      "[0, 0, 1]  Start from destination: 2\n",
      "[0, 1, 0]  Move to destination: 1\n",
      "[1, 0, 0]  End at destination: 0\n"
     ]
    },
    {
     "data": {
      "image/png": "[encoded data removed]",
      "text/plain": [
       "<Figure size 432x288 with 1 Axes>"
      ]
     },
     "metadata": {},
     "output_type": "display_data"
    }
   ],
   "source": [
    "\n",
    "def solve_tsp(quad_term, linear_term):\n",
    "    \n",
    "    bcf = 9e9\n",
    "    for item in itertools.product([0,1],repeat=len(quad_term)):\n",
    "        bitstring = np.array(item)\n",
    "        cf = (bitstring.dot(quad_term)).dot(bitstring) + bitstring.dot(linear_term) \n",
    "        \n",
    "        if cf < bcf:\n",
    "            bcf = cf\n",
    "            bestbitstring = bitstring\n",
    "            \n",
    "    print(\"Best bitstring found:\", bestbitstring)\n",
    "    return bestbitstring\n",
    "\n",
    "best_bitstring_tsp = solve_tsp(tsp_quad, tsp_linear)\n",
    "best_order = my_tsp.interpret(best_bitstring_tsp)\n",
    "print('Total distance = ' + str(my_tsp.tsp_value(best_order, adj_matrix)))\n",
    "\n",
    "draw_tsp_solution(G, best_order, colors, pos)\n",
    "print()\n",
    "get_timesteps(best_bitstring_tsp,n)"
   ]
  },
  {
   "cell_type": "markdown",
   "metadata": {},
   "source": [
    "### Solving the problem using a hardware efficient variational quantum algorithm:\n",
    "\n",
    "From the earlier sessions, we learned that QUBO problems can be re-casted as an *Ising Hamiltonian*, $H_{i}$ which describes the energy of a quantum system consisting of spins.\n",
    "\n",
    "To solve our QUBO problem using quantum methods, we use a quantum circuit to generate quantum states for us, and our objective is to find the quantum state $\\ket{\\psi_{\\textrm{opt}}}$ that minimizes the expectation value of Hamiltonian, $\\langle H_i\\rangle$. This optimal state $\\ket{\\psi_{\\textrm{opt}}}$ will correspond to the best classical solution $\\boldsymbol{x}_{\\textrm{opt}}$.\n",
    "\n",
    "As above, Qiskit has provided some functions for us to obtain the Ising Hamiltonian. From here, we use our classical optimizer, COBYLA, to tune our quantum circuit such that $\\langle H_i\\rangle$ is minimized.\n",
    "\n"
   ]
  },
  {
   "cell_type": "code",
   "execution_count": 10,
   "metadata": {},
   "outputs": [],
   "source": [
    "# Uses Qiskit to formulate the problem as a quadratic optimization model\n",
    "qp = my_tsp.to_quadratic_program()\n",
    "qp2qubo = QuadraticProgramToQubo()\n",
    "qubo = qp2qubo.convert(qp)\n",
    "qubitOp, offset = qubo.to_ising()"
   ]
  },
  {
   "cell_type": "code",
   "execution_count": 17,
   "metadata": {
    "scrolled": false
   },
   "outputs": [
    {
     "name": "stdout",
     "output_type": "stream",
     "text": [
      "Begin optimization: 9\n",
      "Circuit depth: 6\n"
     ]
    },
    {
     "data": {
      "image/png": "[encoded data removed]",
      "text/plain": [
       "<Figure size 432x288 with 1 Axes>"
      ]
     },
     "metadata": {},
     "output_type": "display_data"
    },
    {
     "name": "stdout",
     "output_type": "stream",
     "text": [
      "Original bitstring: [0. 1. 0. 0. 0. 1. 1. 0. 0.]\n",
      "Broken into timesteps: [[0, 0, 1], [0, 1, 0], [1, 0, 0]]\n",
      "[0, 0, 1]  Start from destination: 2\n",
      "[0, 1, 0]  Move to destination: 1\n",
      "[1, 0, 0]  End at destination: 0\n",
      "energy: -6507.455695072768\n",
      "time: 18.055756330490112\n",
      "feasible: True\n",
      "solution found :  [0. 1. 0. 0. 0. 1. 1. 0. 0.]\n",
      "solution objective: 180.0\n"
     ]
    },
    {
     "data": {
      "image/png": "[encoded data removed]",
      "text/plain": [
       "<Figure size 432x288 with 1 Axes>"
      ]
     },
     "metadata": {
      "needs_background": "light"
     },
     "output_type": "display_data"
    }
   ],
   "source": [
    "\n",
    "\n",
    "# Uncomment this section to use finite number of shots. Will be slower\n",
    "# backend = Aer.get_backend('qasm_simulator')\n",
    "# quantum_instance = QuantumInstance(backend, shots=1000)\n",
    "\n",
    "backend = Aer.get_backend('aer_simulator_statevector')\n",
    "quantum_instance = QuantumInstance(backend)\n",
    "\n",
    "cdepth = 6\n",
    "print(\"Begin optimization:\", qubitOp.num_qubits)\n",
    "print(\"Circuit depth:\", cdepth)\n",
    "\n",
    "while True:\n",
    "    tsp_cflist = list([])\n",
    "\n",
    "    def tsp_callback(v0, v1, v2, v3):  \n",
    "        global tsp_cflist\n",
    "        curr_iter = v0\n",
    "        opt_param = v1\n",
    "        cf_mean = v2\n",
    "        cf_std = v3\n",
    "        tsp_cflist.append(cf_mean)\n",
    "        return None\n",
    "\n",
    "    cobyla_ = COBYLA(maxiter=1000)\n",
    "    spsa = SPSA(maxiter=300)\n",
    "    tsp_circuit = TwoLocal(qubitOp.num_qubits, 'ry', 'cx', reps=cdepth, entanglement='linear')\n",
    "    vqe = VQE(tsp_circuit, optimizer=cobyla_, quantum_instance=quantum_instance, callback=tsp_callback)\n",
    "\n",
    "    try:\n",
    "        result = vqe.compute_minimum_eigenvalue(qubitOp)\n",
    "\n",
    "        x = my_tsp.sample_most_likely(result.eigenstate)\n",
    "        z = my_tsp.interpret(x)\n",
    "        draw_tsp_solution(my_tsp.graph, z, colors, pos)\n",
    "        plt.pause(0.01)\n",
    "        \n",
    "        get_timesteps(x,3)\n",
    "        \n",
    "        print('energy:', result.eigenvalue.real)\n",
    "        print('time:', result.optimizer_time)\n",
    "        print('feasible:', qubo.is_feasible(x))\n",
    "        # Qiskit has reverse ordering so the actual solution is below with lsb the right most bit\n",
    "        print('solution found : ',x)\n",
    "        #print('solution:', z, x)\n",
    "        print('solution objective:', my_tsp.tsp_value(z, adj_matrix))\n",
    "\n",
    "        plt.plot(tsp_cflist)\n",
    "        plt.title(\"Cost function with iterations, VQE\")\n",
    "        plt.ylabel(\"Cost function value\")\n",
    "        plt.xlabel(\"Number of COBYLA iterations\")\n",
    "        plt.pause(0.01)\n",
    "\n",
    "\n",
    "        break\n",
    "    except (TypeError, KeyError) as e:\n",
    "        pass\n",
    "    \n",
    "\n",
    "if quantum_instance.is_statevector:\n",
    "    rdict = {''.join(x):np.abs(result.eigenstate[int(''.join(x),2)])**2 \n",
    "             for x in itertools.product('01',repeat = qubitOp.num_qubits)}\n",
    "else:\n",
    "    rdict = result.eigenstate\n",
    "\n",
    "# Plots the results in a histogram\n",
    "# plot_histogram(rdict, figsize=(20,5))\n"
   ]
  },
  {
   "cell_type": "code",
   "execution_count": null,
   "metadata": {},
   "outputs": [],
   "source": []
  },
  {
   "cell_type": "code",
   "execution_count": null,
   "metadata": {},
   "outputs": [],
   "source": []
  },
  {
   "cell_type": "code",
   "execution_count": null,
   "metadata": {},
   "outputs": [],
   "source": []
  }
 ],
 "metadata": {
  "kernelspec": {
   "display_name": "Python 3.10.8 64-bit",
   "language": "python",
   "name": "python3"
  },
  "language_info": {
   "codemirror_mode": {
    "name": "ipython",
    "version": 3
   },
   "file_extension": ".py",
   "mimetype": "text/x-python",
   "name": "python",
   "nbconvert_exporter": "python",
   "pygments_lexer": "ipython3",
   "version": "3.10.8"
  },
  "vscode": {
   "interpreter": {
    "hash": "e7370f93d1d0cde622a1f8e1c04877d8463912d04d973331ad4851f04de6915a"
   }
  }
 },
 "nbformat": 4,
 "nbformat_minor": 5
}
